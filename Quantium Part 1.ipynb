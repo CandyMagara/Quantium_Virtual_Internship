{
 "cells": [
  {
   "cell_type": "code",
   "execution_count": 1,
   "metadata": {},
   "outputs": [],
   "source": [
    "options(jupyter.plot_mimetypes = c(\"text/plain\", \"image/png\" ))"
   ]
  },
  {
   "cell_type": "code",
   "execution_count": 2,
   "metadata": {},
   "outputs": [
    {
     "name": "stdout",
     "output_type": "stream",
     "text": [
      "package 'data.table' successfully unpacked and MD5 sums checked\n"
     ]
    },
    {
     "name": "stderr",
     "output_type": "stream",
     "text": [
      "Warning message:\n",
      "\"cannot remove prior installation of package 'data.table'\"Warning message in file.copy(savedcopy, lib, recursive = TRUE):\n",
      "\"problem copying C:\\Users\\user\\anaconda3\\Lib\\R\\library\\00LOCK\\data.table\\libs\\x64\\datatable.dll to C:\\Users\\user\\anaconda3\\Lib\\R\\library\\data.table\\libs\\x64\\datatable.dll: Permission denied\"Warning message:\n",
      "\"restored 'data.table'\""
     ]
    },
    {
     "name": "stdout",
     "output_type": "stream",
     "text": [
      "\n",
      "The downloaded binary packages are in\n",
      "\tC:\\Users\\user\\AppData\\Local\\Temp\\RtmpCmly7Z\\downloaded_packages\n"
     ]
    }
   ],
   "source": [
    "install.packages('data.table')"
   ]
  },
  {
   "cell_type": "code",
   "execution_count": 5,
   "metadata": {},
   "outputs": [
    {
     "name": "stderr",
     "output_type": "stream",
     "text": [
      "Warning message:\n",
      "\"package 'data.table' was built under R version 3.6.3\""
     ]
    }
   ],
   "source": [
    "library(data.table)"
   ]
  },
  {
   "cell_type": "code",
   "execution_count": 6,
   "metadata": {},
   "outputs": [],
   "source": [
    "filePath <- \"\"\n",
    "transactionData <- fread(paste0(filePath, \"C:/Users/user/Downloads/QVI_transaction_data1.csv\"))"
   ]
  },
  {
   "cell_type": "code",
   "execution_count": 7,
   "metadata": {},
   "outputs": [],
   "source": [
    "customerData <- fread(paste0(filePath, \"C:/Users/user/Downloads/QVI_purchase_behaviour.csv\"))"
   ]
  },
  {
   "cell_type": "markdown",
   "metadata": {},
   "source": [
    "Inspect the transaction dataframe"
   ]
  },
  {
   "cell_type": "code",
   "execution_count": 8,
   "metadata": {},
   "outputs": [
    {
     "name": "stdout",
     "output_type": "stream",
     "text": [
      "Classes 'data.table' and 'data.frame':\t264836 obs. of  8 variables:\n",
      " $ DATE          : int  43390 43599 43605 43329 43330 43604 43601 43601 43332 43330 ...\n",
      " $ STORE_NBR     : int  1 1 1 2 2 4 4 4 5 7 ...\n",
      " $ LYLTY_CARD_NBR: int  1000 1307 1343 2373 2426 4074 4149 4196 5026 7150 ...\n",
      " $ TXN_ID        : int  1 348 383 974 1038 2982 3333 3539 4525 6900 ...\n",
      " $ PROD_NBR      : int  5 66 61 69 108 57 16 24 42 52 ...\n",
      " $ PROD_NAME     : chr  \"Natural Chip        Compny SeaSalt175g\" \"CCs Nacho Cheese    175g\" \"Smiths Crinkle Cut  Chips Chicken 170g\" \"Smiths Chip Thinly  S/Cream&Onion 175g\" ...\n",
      " $ PROD_QTY      : int  2 3 2 5 3 1 1 1 1 2 ...\n",
      " $ TOT_SALES     : num  6 6.3 2.9 15 13.8 5.1 5.7 3.6 3.9 7.2 ...\n",
      " - attr(*, \".internal.selfref\")=<externalptr> \n"
     ]
    }
   ],
   "source": [
    "str(transactionData)"
   ]
  },
  {
   "cell_type": "markdown",
   "metadata": {},
   "source": [
    "Change the date from an integer to date format"
   ]
  },
  {
   "cell_type": "code",
   "execution_count": 9,
   "metadata": {},
   "outputs": [],
   "source": [
    "transactionData$DATE <- as.Date(transactionData$DATE, origin = \"1899-12-30\")"
   ]
  },
  {
   "cell_type": "markdown",
   "metadata": {},
   "source": [
    "Inspect the product name column and count each product name"
   ]
  },
  {
   "cell_type": "code",
   "execution_count": 10,
   "metadata": {},
   "outputs": [
    {
     "data": {
      "text/html": [
       "<table>\n",
       "<thead><tr><th scope=col>PROD_NAME</th><th scope=col>N</th></tr></thead>\n",
       "<tbody>\n",
       "\t<tr><td>Natural Chip        Compny SeaSalt175g  </td><td>1468                                    </td></tr>\n",
       "\t<tr><td>CCs Nacho Cheese    175g                </td><td>1498                                    </td></tr>\n",
       "\t<tr><td>Smiths Crinkle Cut  Chips Chicken 170g  </td><td>1484                                    </td></tr>\n",
       "\t<tr><td><span style=white-space:pre-wrap>Smiths Chip Thinly  S/Cream&amp;Onion 175g  </span></td><td>1473                                                                                </td></tr>\n",
       "\t<tr><td>Kettle Tortilla ChpsHny&amp;Jlpno Chili 150g</td><td>3296                                        </td></tr>\n",
       "\t<tr><td>Old El Paso Salsa   Dip Tomato Mild 300g</td><td>3085                                    </td></tr>\n",
       "\t<tr><td>Smiths Crinkle Chips Salt &amp; Vinegar 330g</td><td>3197                                        </td></tr>\n",
       "\t<tr><td>Grain Waves         Sweet Chilli 210g   </td><td>3167                                    </td></tr>\n",
       "\t<tr><td>Doritos Corn Chip Mexican Jalapeno 150g </td><td>3204                                    </td></tr>\n",
       "\t<tr><td><span style=white-space:pre-wrap>Grain Waves Sour    Cream&amp;Chives 210G   </span></td><td>3105                                                                                </td></tr>\n",
       "\t<tr><td>Kettle Sensations   Siracha Lime 150g   </td><td>3127                                    </td></tr>\n",
       "\t<tr><td>Twisties Cheese     270g                </td><td>3115                                    </td></tr>\n",
       "\t<tr><td>WW Crinkle Cut      Chicken 175g        </td><td>1467                                    </td></tr>\n",
       "\t<tr><td><span style=white-space:pre-wrap>Thins Chips Light&amp;  Tangy 175g          </span></td><td>3188                                                                                </td></tr>\n",
       "\t<tr><td>CCs Original 175g                       </td><td>1514                                    </td></tr>\n",
       "\t<tr><td>Burger Rings 220g                       </td><td>1564                                    </td></tr>\n",
       "\t<tr><td><span style=white-space:pre-wrap>NCC Sour Cream &amp;    Garden Chives 175g  </span></td><td>1419                                                                                </td></tr>\n",
       "\t<tr><td>Doritos Corn Chip Southern Chicken 150g </td><td>3172                                    </td></tr>\n",
       "\t<tr><td>Cheezels Cheese Box 125g                </td><td>1454                                    </td></tr>\n",
       "\t<tr><td>Smiths Crinkle      Original 330g       </td><td>3142                                    </td></tr>\n",
       "\t<tr><td>Infzns Crn Crnchers Tangy Gcamole 110g  </td><td>3144                                    </td></tr>\n",
       "\t<tr><td>Kettle Sea Salt     And Vinegar 175g    </td><td>3173                                    </td></tr>\n",
       "\t<tr><td>Smiths Chip Thinly  Cut Original 175g   </td><td>1614                                    </td></tr>\n",
       "\t<tr><td>Kettle Original 175g                    </td><td>3159                                    </td></tr>\n",
       "\t<tr><td><span style=white-space:pre-wrap>Red Rock Deli Thai  Chilli&amp;Lime 150g    </span></td><td>1495                                                                                </td></tr>\n",
       "\t<tr><td>Pringles Sthrn FriedChicken 134g        </td><td>3083                                    </td></tr>\n",
       "\t<tr><td><span style=white-space:pre-wrap>Pringles Sweet&amp;Spcy BBQ 134g            </span></td><td>3177                                                                                </td></tr>\n",
       "\t<tr><td><span style=white-space:pre-wrap>Red Rock Deli SR    Salsa &amp; Mzzrlla 150g</span></td><td>1458                                                                                </td></tr>\n",
       "\t<tr><td>Thins Chips         Originl saltd 175g  </td><td>1441                                    </td></tr>\n",
       "\t<tr><td><span style=white-space:pre-wrap>Red Rock Deli Sp    Salt &amp; Truffle 150G </span></td><td>1498                                                                                </td></tr>\n",
       "\t<tr><td>...</td><td>...</td></tr>\n",
       "\t<tr><td>Tostitos Splash Of  Lime 175g           </td><td>3252                                    </td></tr>\n",
       "\t<tr><td>Woolworths Medium   Salsa 300g          </td><td>1430                                    </td></tr>\n",
       "\t<tr><td>Kettle Tortilla ChpsBtroot&amp;Ricotta 150g </td><td>3146                                        </td></tr>\n",
       "\t<tr><td>CCs Tasty Cheese    175g                </td><td>1539                                    </td></tr>\n",
       "\t<tr><td>Woolworths Cheese   Rings 190g          </td><td>1516                                    </td></tr>\n",
       "\t<tr><td>Tostitos Smoked     Chipotle 175g       </td><td>3145                                    </td></tr>\n",
       "\t<tr><td>Pringles Barbeque   134g                </td><td>3210                                    </td></tr>\n",
       "\t<tr><td>WW Supreme Cheese   Corn Chips 200g     </td><td>1509                                    </td></tr>\n",
       "\t<tr><td>Pringles Mystery    Flavour 134g        </td><td>3114                                    </td></tr>\n",
       "\t<tr><td><span style=white-space:pre-wrap>Tyrrells Crisps     Ched &amp; Chives 165g  </span></td><td>3268                                                                                </td></tr>\n",
       "\t<tr><td><span style=white-space:pre-wrap>Snbts Whlgrn Crisps Cheddr&amp;Mstrd 90g    </span></td><td>1576                                                                                </td></tr>\n",
       "\t<tr><td><span style=white-space:pre-wrap>Cheetos Chs &amp; Bacon Balls 190g          </span></td><td>1479                                                                                </td></tr>\n",
       "\t<tr><td>Pringles Slt Vingar 134g                </td><td>3095                                    </td></tr>\n",
       "\t<tr><td>Infuzions SourCream&amp;Herbs Veg Strws 110g</td><td>3134                                        </td></tr>\n",
       "\t<tr><td><span style=white-space:pre-wrap>Kettle Tortilla ChpsFeta&amp;Garlic 150g    </span></td><td>3138                                                                                </td></tr>\n",
       "\t<tr><td>Infuzions Mango     Chutny Papadums 70g </td><td>1507                                    </td></tr>\n",
       "\t<tr><td><span style=white-space:pre-wrap>RRD Steak &amp;         Chimuchurri 150g    </span></td><td>1455                                                                                </td></tr>\n",
       "\t<tr><td>RRD Honey Soy       Chicken 165g        </td><td>1513                                    </td></tr>\n",
       "\t<tr><td>Sunbites Whlegrn    Crisps Frch/Onin 90g</td><td>1432                                    </td></tr>\n",
       "\t<tr><td><span style=white-space:pre-wrap>RRD Salt &amp; Vinegar  165g                </span></td><td>1474                                                                                </td></tr>\n",
       "\t<tr><td>Doritos Cheese      Supreme 330g        </td><td>3052                                    </td></tr>\n",
       "\t<tr><td><span style=white-space:pre-wrap>Smiths Crinkle Cut  Snag&amp;Sauce 150g     </span></td><td>1503                                                                                </td></tr>\n",
       "\t<tr><td><span style=white-space:pre-wrap>WW Sour Cream &amp;OnionStacked Chips 160g  </span></td><td>1483                                                                                </td></tr>\n",
       "\t<tr><td><span style=white-space:pre-wrap>RRD Lime &amp; Pepper   165g                </span></td><td>1473                                                                                </td></tr>\n",
       "\t<tr><td><span style=white-space:pre-wrap>Natural ChipCo Sea  Salt &amp; Vinegr 175g  </span></td><td>1550                                                                                </td></tr>\n",
       "\t<tr><td><span style=white-space:pre-wrap>Red Rock Deli Chikn&amp;Garlic Aioli 150g   </span></td><td>1434                                                                                </td></tr>\n",
       "\t<tr><td>RRD SR Slow Rst     Pork Belly 150g     </td><td>1526                                    </td></tr>\n",
       "\t<tr><td>RRD Pc Sea Salt     165g                </td><td>1431                                    </td></tr>\n",
       "\t<tr><td>Smith Crinkle Cut   Bolognese 150g      </td><td>1451                                    </td></tr>\n",
       "\t<tr><td>Doritos Salsa Mild  300g                </td><td>1472                                    </td></tr>\n",
       "</tbody>\n",
       "</table>\n"
      ],
      "text/latex": [
       "\\begin{tabular}{r|ll}\n",
       " PROD\\_NAME & N\\\\\n",
       "\\hline\n",
       "\t Natural Chip        Compny SeaSalt175g   & 1468                                    \\\\\n",
       "\t CCs Nacho Cheese    175g                 & 1498                                    \\\\\n",
       "\t Smiths Crinkle Cut  Chips Chicken 170g   & 1484                                    \\\\\n",
       "\t Smiths Chip Thinly  S/Cream\\&Onion 175g   & 1473                                      \\\\\n",
       "\t Kettle Tortilla ChpsHny\\&Jlpno Chili 150g & 3296                                      \\\\\n",
       "\t Old El Paso Salsa   Dip Tomato Mild 300g & 3085                                    \\\\\n",
       "\t Smiths Crinkle Chips Salt \\& Vinegar 330g & 3197                                      \\\\\n",
       "\t Grain Waves         Sweet Chilli 210g    & 3167                                    \\\\\n",
       "\t Doritos Corn Chip Mexican Jalapeno 150g  & 3204                                    \\\\\n",
       "\t Grain Waves Sour    Cream\\&Chives 210G    & 3105                                      \\\\\n",
       "\t Kettle Sensations   Siracha Lime 150g    & 3127                                    \\\\\n",
       "\t Twisties Cheese     270g                 & 3115                                    \\\\\n",
       "\t WW Crinkle Cut      Chicken 175g         & 1467                                    \\\\\n",
       "\t Thins Chips Light\\&  Tangy 175g           & 3188                                      \\\\\n",
       "\t CCs Original 175g                        & 1514                                    \\\\\n",
       "\t Burger Rings 220g                        & 1564                                    \\\\\n",
       "\t NCC Sour Cream \\&    Garden Chives 175g   & 1419                                      \\\\\n",
       "\t Doritos Corn Chip Southern Chicken 150g  & 3172                                    \\\\\n",
       "\t Cheezels Cheese Box 125g                 & 1454                                    \\\\\n",
       "\t Smiths Crinkle      Original 330g        & 3142                                    \\\\\n",
       "\t Infzns Crn Crnchers Tangy Gcamole 110g   & 3144                                    \\\\\n",
       "\t Kettle Sea Salt     And Vinegar 175g     & 3173                                    \\\\\n",
       "\t Smiths Chip Thinly  Cut Original 175g    & 1614                                    \\\\\n",
       "\t Kettle Original 175g                     & 3159                                    \\\\\n",
       "\t Red Rock Deli Thai  Chilli\\&Lime 150g     & 1495                                      \\\\\n",
       "\t Pringles Sthrn FriedChicken 134g         & 3083                                    \\\\\n",
       "\t Pringles Sweet\\&Spcy BBQ 134g             & 3177                                      \\\\\n",
       "\t Red Rock Deli SR    Salsa \\& Mzzrlla 150g & 1458                                      \\\\\n",
       "\t Thins Chips         Originl saltd 175g   & 1441                                    \\\\\n",
       "\t Red Rock Deli Sp    Salt \\& Truffle 150G  & 1498                                      \\\\\n",
       "\t ... & ...\\\\\n",
       "\t Tostitos Splash Of  Lime 175g            & 3252                                    \\\\\n",
       "\t Woolworths Medium   Salsa 300g           & 1430                                    \\\\\n",
       "\t Kettle Tortilla ChpsBtroot\\&Ricotta 150g  & 3146                                      \\\\\n",
       "\t CCs Tasty Cheese    175g                 & 1539                                    \\\\\n",
       "\t Woolworths Cheese   Rings 190g           & 1516                                    \\\\\n",
       "\t Tostitos Smoked     Chipotle 175g        & 3145                                    \\\\\n",
       "\t Pringles Barbeque   134g                 & 3210                                    \\\\\n",
       "\t WW Supreme Cheese   Corn Chips 200g      & 1509                                    \\\\\n",
       "\t Pringles Mystery    Flavour 134g         & 3114                                    \\\\\n",
       "\t Tyrrells Crisps     Ched \\& Chives 165g   & 3268                                      \\\\\n",
       "\t Snbts Whlgrn Crisps Cheddr\\&Mstrd 90g     & 1576                                      \\\\\n",
       "\t Cheetos Chs \\& Bacon Balls 190g           & 1479                                      \\\\\n",
       "\t Pringles Slt Vingar 134g                 & 3095                                    \\\\\n",
       "\t Infuzions SourCream\\&Herbs Veg Strws 110g & 3134                                      \\\\\n",
       "\t Kettle Tortilla ChpsFeta\\&Garlic 150g     & 3138                                      \\\\\n",
       "\t Infuzions Mango     Chutny Papadums 70g  & 1507                                    \\\\\n",
       "\t RRD Steak \\&         Chimuchurri 150g     & 1455                                      \\\\\n",
       "\t RRD Honey Soy       Chicken 165g         & 1513                                    \\\\\n",
       "\t Sunbites Whlegrn    Crisps Frch/Onin 90g & 1432                                    \\\\\n",
       "\t RRD Salt \\& Vinegar  165g                 & 1474                                      \\\\\n",
       "\t Doritos Cheese      Supreme 330g         & 3052                                    \\\\\n",
       "\t Smiths Crinkle Cut  Snag\\&Sauce 150g      & 1503                                      \\\\\n",
       "\t WW Sour Cream \\&OnionStacked Chips 160g   & 1483                                      \\\\\n",
       "\t RRD Lime \\& Pepper   165g                 & 1473                                      \\\\\n",
       "\t Natural ChipCo Sea  Salt \\& Vinegr 175g   & 1550                                      \\\\\n",
       "\t Red Rock Deli Chikn\\&Garlic Aioli 150g    & 1434                                      \\\\\n",
       "\t RRD SR Slow Rst     Pork Belly 150g      & 1526                                    \\\\\n",
       "\t RRD Pc Sea Salt     165g                 & 1431                                    \\\\\n",
       "\t Smith Crinkle Cut   Bolognese 150g       & 1451                                    \\\\\n",
       "\t Doritos Salsa Mild  300g                 & 1472                                    \\\\\n",
       "\\end{tabular}\n"
      ],
      "text/markdown": [
       "\n",
       "| PROD_NAME | N |\n",
       "|---|---|\n",
       "| Natural Chip        Compny SeaSalt175g   | 1468                                     |\n",
       "| CCs Nacho Cheese    175g                 | 1498                                     |\n",
       "| Smiths Crinkle Cut  Chips Chicken 170g   | 1484                                     |\n",
       "| Smiths Chip Thinly  S/Cream&Onion 175g   | 1473                                     |\n",
       "| Kettle Tortilla ChpsHny&Jlpno Chili 150g | 3296                                     |\n",
       "| Old El Paso Salsa   Dip Tomato Mild 300g | 3085                                     |\n",
       "| Smiths Crinkle Chips Salt & Vinegar 330g | 3197                                     |\n",
       "| Grain Waves         Sweet Chilli 210g    | 3167                                     |\n",
       "| Doritos Corn Chip Mexican Jalapeno 150g  | 3204                                     |\n",
       "| Grain Waves Sour    Cream&Chives 210G    | 3105                                     |\n",
       "| Kettle Sensations   Siracha Lime 150g    | 3127                                     |\n",
       "| Twisties Cheese     270g                 | 3115                                     |\n",
       "| WW Crinkle Cut      Chicken 175g         | 1467                                     |\n",
       "| Thins Chips Light&  Tangy 175g           | 3188                                     |\n",
       "| CCs Original 175g                        | 1514                                     |\n",
       "| Burger Rings 220g                        | 1564                                     |\n",
       "| NCC Sour Cream &    Garden Chives 175g   | 1419                                     |\n",
       "| Doritos Corn Chip Southern Chicken 150g  | 3172                                     |\n",
       "| Cheezels Cheese Box 125g                 | 1454                                     |\n",
       "| Smiths Crinkle      Original 330g        | 3142                                     |\n",
       "| Infzns Crn Crnchers Tangy Gcamole 110g   | 3144                                     |\n",
       "| Kettle Sea Salt     And Vinegar 175g     | 3173                                     |\n",
       "| Smiths Chip Thinly  Cut Original 175g    | 1614                                     |\n",
       "| Kettle Original 175g                     | 3159                                     |\n",
       "| Red Rock Deli Thai  Chilli&Lime 150g     | 1495                                     |\n",
       "| Pringles Sthrn FriedChicken 134g         | 3083                                     |\n",
       "| Pringles Sweet&Spcy BBQ 134g             | 3177                                     |\n",
       "| Red Rock Deli SR    Salsa & Mzzrlla 150g | 1458                                     |\n",
       "| Thins Chips         Originl saltd 175g   | 1441                                     |\n",
       "| Red Rock Deli Sp    Salt & Truffle 150G  | 1498                                     |\n",
       "| ... | ... |\n",
       "| Tostitos Splash Of  Lime 175g            | 3252                                     |\n",
       "| Woolworths Medium   Salsa 300g           | 1430                                     |\n",
       "| Kettle Tortilla ChpsBtroot&Ricotta 150g  | 3146                                     |\n",
       "| CCs Tasty Cheese    175g                 | 1539                                     |\n",
       "| Woolworths Cheese   Rings 190g           | 1516                                     |\n",
       "| Tostitos Smoked     Chipotle 175g        | 3145                                     |\n",
       "| Pringles Barbeque   134g                 | 3210                                     |\n",
       "| WW Supreme Cheese   Corn Chips 200g      | 1509                                     |\n",
       "| Pringles Mystery    Flavour 134g         | 3114                                     |\n",
       "| Tyrrells Crisps     Ched & Chives 165g   | 3268                                     |\n",
       "| Snbts Whlgrn Crisps Cheddr&Mstrd 90g     | 1576                                     |\n",
       "| Cheetos Chs & Bacon Balls 190g           | 1479                                     |\n",
       "| Pringles Slt Vingar 134g                 | 3095                                     |\n",
       "| Infuzions SourCream&Herbs Veg Strws 110g | 3134                                     |\n",
       "| Kettle Tortilla ChpsFeta&Garlic 150g     | 3138                                     |\n",
       "| Infuzions Mango     Chutny Papadums 70g  | 1507                                     |\n",
       "| RRD Steak &         Chimuchurri 150g     | 1455                                     |\n",
       "| RRD Honey Soy       Chicken 165g         | 1513                                     |\n",
       "| Sunbites Whlegrn    Crisps Frch/Onin 90g | 1432                                     |\n",
       "| RRD Salt & Vinegar  165g                 | 1474                                     |\n",
       "| Doritos Cheese      Supreme 330g         | 3052                                     |\n",
       "| Smiths Crinkle Cut  Snag&Sauce 150g      | 1503                                     |\n",
       "| WW Sour Cream &OnionStacked Chips 160g   | 1483                                     |\n",
       "| RRD Lime & Pepper   165g                 | 1473                                     |\n",
       "| Natural ChipCo Sea  Salt & Vinegr 175g   | 1550                                     |\n",
       "| Red Rock Deli Chikn&Garlic Aioli 150g    | 1434                                     |\n",
       "| RRD SR Slow Rst     Pork Belly 150g      | 1526                                     |\n",
       "| RRD Pc Sea Salt     165g                 | 1431                                     |\n",
       "| Smith Crinkle Cut   Bolognese 150g       | 1451                                     |\n",
       "| Doritos Salsa Mild  300g                 | 1472                                     |\n",
       "\n"
      ],
      "text/plain": [
       "    PROD_NAME                                N   \n",
       "1   Natural Chip        Compny SeaSalt175g   1468\n",
       "2   CCs Nacho Cheese    175g                 1498\n",
       "3   Smiths Crinkle Cut  Chips Chicken 170g   1484\n",
       "4   Smiths Chip Thinly  S/Cream&Onion 175g   1473\n",
       "5   Kettle Tortilla ChpsHny&Jlpno Chili 150g 3296\n",
       "6   Old El Paso Salsa   Dip Tomato Mild 300g 3085\n",
       "7   Smiths Crinkle Chips Salt & Vinegar 330g 3197\n",
       "8   Grain Waves         Sweet Chilli 210g    3167\n",
       "9   Doritos Corn Chip Mexican Jalapeno 150g  3204\n",
       "10  Grain Waves Sour    Cream&Chives 210G    3105\n",
       "11  Kettle Sensations   Siracha Lime 150g    3127\n",
       "12  Twisties Cheese     270g                 3115\n",
       "13  WW Crinkle Cut      Chicken 175g         1467\n",
       "14  Thins Chips Light&  Tangy 175g           3188\n",
       "15  CCs Original 175g                        1514\n",
       "16  Burger Rings 220g                        1564\n",
       "17  NCC Sour Cream &    Garden Chives 175g   1419\n",
       "18  Doritos Corn Chip Southern Chicken 150g  3172\n",
       "19  Cheezels Cheese Box 125g                 1454\n",
       "20  Smiths Crinkle      Original 330g        3142\n",
       "21  Infzns Crn Crnchers Tangy Gcamole 110g   3144\n",
       "22  Kettle Sea Salt     And Vinegar 175g     3173\n",
       "23  Smiths Chip Thinly  Cut Original 175g    1614\n",
       "24  Kettle Original 175g                     3159\n",
       "25  Red Rock Deli Thai  Chilli&Lime 150g     1495\n",
       "26  Pringles Sthrn FriedChicken 134g         3083\n",
       "27  Pringles Sweet&Spcy BBQ 134g             3177\n",
       "28  Red Rock Deli SR    Salsa & Mzzrlla 150g 1458\n",
       "29  Thins Chips         Originl saltd 175g   1441\n",
       "30  Red Rock Deli Sp    Salt & Truffle 150G  1498\n",
       "... ...                                      ... \n",
       "85  Tostitos Splash Of  Lime 175g            3252\n",
       "86  Woolworths Medium   Salsa 300g           1430\n",
       "87  Kettle Tortilla ChpsBtroot&Ricotta 150g  3146\n",
       "88  CCs Tasty Cheese    175g                 1539\n",
       "89  Woolworths Cheese   Rings 190g           1516\n",
       "90  Tostitos Smoked     Chipotle 175g        3145\n",
       "91  Pringles Barbeque   134g                 3210\n",
       "92  WW Supreme Cheese   Corn Chips 200g      1509\n",
       "93  Pringles Mystery    Flavour 134g         3114\n",
       "94  Tyrrells Crisps     Ched & Chives 165g   3268\n",
       "95  Snbts Whlgrn Crisps Cheddr&Mstrd 90g     1576\n",
       "96  Cheetos Chs & Bacon Balls 190g           1479\n",
       "97  Pringles Slt Vingar 134g                 3095\n",
       "98  Infuzions SourCream&Herbs Veg Strws 110g 3134\n",
       "99  Kettle Tortilla ChpsFeta&Garlic 150g     3138\n",
       "100 Infuzions Mango     Chutny Papadums 70g  1507\n",
       "101 RRD Steak &         Chimuchurri 150g     1455\n",
       "102 RRD Honey Soy       Chicken 165g         1513\n",
       "103 Sunbites Whlegrn    Crisps Frch/Onin 90g 1432\n",
       "104 RRD Salt & Vinegar  165g                 1474\n",
       "105 Doritos Cheese      Supreme 330g         3052\n",
       "106 Smiths Crinkle Cut  Snag&Sauce 150g      1503\n",
       "107 WW Sour Cream &OnionStacked Chips 160g   1483\n",
       "108 RRD Lime & Pepper   165g                 1473\n",
       "109 Natural ChipCo Sea  Salt & Vinegr 175g   1550\n",
       "110 Red Rock Deli Chikn&Garlic Aioli 150g    1434\n",
       "111 RRD SR Slow Rst     Pork Belly 150g      1526\n",
       "112 RRD Pc Sea Salt     165g                 1431\n",
       "113 Smith Crinkle Cut   Bolognese 150g       1451\n",
       "114 Doritos Salsa Mild  300g                 1472"
      ]
     },
     "metadata": {},
     "output_type": "display_data"
    }
   ],
   "source": [
    "transactionData[, .N, PROD_NAME]"
   ]
  },
  {
   "cell_type": "markdown",
   "metadata": {},
   "source": [
    "Inspect the product words."
   ]
  },
  {
   "cell_type": "code",
   "execution_count": 11,
   "metadata": {},
   "outputs": [],
   "source": [
    "productWords <‐ data.table(unlist(strsplit(unique(transactionData[, PROD_NAME]), \" \")))\n",
    "setnames(productWords, 'words')"
   ]
  },
  {
   "cell_type": "code",
   "execution_count": 12,
   "metadata": {},
   "outputs": [],
   "source": [
    "productWords <‐ productWords[grepl(\"\\\\d\", words) == FALSE, ] "
   ]
  },
  {
   "cell_type": "code",
   "execution_count": 13,
   "metadata": {},
   "outputs": [],
   "source": [
    "productWords <‐ productWords[grepl(\"[:alpha:]\", words), ] "
   ]
  },
  {
   "cell_type": "code",
   "execution_count": 14,
   "metadata": {},
   "outputs": [
    {
     "data": {
      "text/html": [
       "<table>\n",
       "<thead><tr><th scope=col>words</th><th scope=col>N</th></tr></thead>\n",
       "<tbody>\n",
       "\t<tr><td>Chips     </td><td>21        </td></tr>\n",
       "\t<tr><td>Smiths    </td><td>16        </td></tr>\n",
       "\t<tr><td>Crinkle   </td><td>14        </td></tr>\n",
       "\t<tr><td>Kettle    </td><td>13        </td></tr>\n",
       "\t<tr><td>Cheese    </td><td>12        </td></tr>\n",
       "\t<tr><td>Salt      </td><td>12        </td></tr>\n",
       "\t<tr><td>Original  </td><td>10        </td></tr>\n",
       "\t<tr><td>Chip      </td><td> 9        </td></tr>\n",
       "\t<tr><td>Salsa     </td><td> 9        </td></tr>\n",
       "\t<tr><td>Pringles  </td><td> 8        </td></tr>\n",
       "\t<tr><td>Chicken   </td><td> 7        </td></tr>\n",
       "\t<tr><td>Sea       </td><td> 6        </td></tr>\n",
       "\t<tr><td>Thinly    </td><td> 5        </td></tr>\n",
       "\t<tr><td>Vinegar   </td><td> 5        </td></tr>\n",
       "\t<tr><td>Chilli    </td><td> 5        </td></tr>\n",
       "\t<tr><td>Thins     </td><td> 5        </td></tr>\n",
       "\t<tr><td>Crisps    </td><td> 5        </td></tr>\n",
       "\t<tr><td>Natural   </td><td> 4        </td></tr>\n",
       "\t<tr><td>Cream     </td><td> 4        </td></tr>\n",
       "\t<tr><td>Deli      </td><td> 4        </td></tr>\n",
       "\t<tr><td>Supreme   </td><td> 4        </td></tr>\n",
       "\t<tr><td>Tortilla  </td><td> 3        </td></tr>\n",
       "\t<tr><td>Old       </td><td> 3        </td></tr>\n",
       "\t<tr><td>El        </td><td> 3        </td></tr>\n",
       "\t<tr><td>Paso      </td><td> 3        </td></tr>\n",
       "\t<tr><td>Dip       </td><td> 3        </td></tr>\n",
       "\t<tr><td>Tomato    </td><td> 3        </td></tr>\n",
       "\t<tr><td>Mild      </td><td> 3        </td></tr>\n",
       "\t<tr><td>Sensations</td><td> 3        </td></tr>\n",
       "\t<tr><td>Popd      </td><td> 3        </td></tr>\n",
       "\t<tr><td>...</td><td>...</td></tr>\n",
       "\t<tr><td>ChpsBtroot&amp;Ricotta</td><td>1                     </td></tr>\n",
       "\t<tr><td>Tasty             </td><td>1                 </td></tr>\n",
       "\t<tr><td>Chipotle          </td><td>1                 </td></tr>\n",
       "\t<tr><td>Barbeque          </td><td>1                 </td></tr>\n",
       "\t<tr><td>Flavour           </td><td>1                 </td></tr>\n",
       "\t<tr><td>Ched              </td><td>1                 </td></tr>\n",
       "\t<tr><td>Whlgrn            </td><td>1                 </td></tr>\n",
       "\t<tr><td><span style=white-space:pre-wrap>Cheddr&amp;Mstrd      </span></td><td>1                                                             </td></tr>\n",
       "\t<tr><td>Chs               </td><td>1                 </td></tr>\n",
       "\t<tr><td>Bacon             </td><td>1                 </td></tr>\n",
       "\t<tr><td>Balls             </td><td>1                 </td></tr>\n",
       "\t<tr><td>Slt               </td><td>1                 </td></tr>\n",
       "\t<tr><td>Vingar            </td><td>1                 </td></tr>\n",
       "\t<tr><td><span style=white-space:pre-wrap>SourCream&amp;Herbs   </span></td><td>1                                                             </td></tr>\n",
       "\t<tr><td><span style=white-space:pre-wrap>ChpsFeta&amp;Garlic   </span></td><td>1                                                             </td></tr>\n",
       "\t<tr><td>Mango             </td><td>1                 </td></tr>\n",
       "\t<tr><td>Chutny            </td><td>1                 </td></tr>\n",
       "\t<tr><td>Papadums          </td><td>1                 </td></tr>\n",
       "\t<tr><td>Steak             </td><td>1                 </td></tr>\n",
       "\t<tr><td>Chimuchurri       </td><td>1                 </td></tr>\n",
       "\t<tr><td>Whlegrn           </td><td>1                 </td></tr>\n",
       "\t<tr><td>Frch/Onin         </td><td>1                 </td></tr>\n",
       "\t<tr><td><span style=white-space:pre-wrap>Snag&amp;Sauce        </span></td><td>1                                                             </td></tr>\n",
       "\t<tr><td><span style=white-space:pre-wrap>&amp;OnionStacked     </span></td><td>1                                                             </td></tr>\n",
       "\t<tr><td>Pepper            </td><td>1                 </td></tr>\n",
       "\t<tr><td><span style=white-space:pre-wrap>Chikn&amp;Garlic      </span></td><td>1                                                             </td></tr>\n",
       "\t<tr><td>Aioli             </td><td>1                 </td></tr>\n",
       "\t<tr><td>Slow              </td><td>1                 </td></tr>\n",
       "\t<tr><td>Belly             </td><td>1                 </td></tr>\n",
       "\t<tr><td>Bolognese         </td><td>1                 </td></tr>\n",
       "</tbody>\n",
       "</table>\n"
      ],
      "text/latex": [
       "\\begin{tabular}{r|ll}\n",
       " words & N\\\\\n",
       "\\hline\n",
       "\t Chips      & 21        \\\\\n",
       "\t Smiths     & 16        \\\\\n",
       "\t Crinkle    & 14        \\\\\n",
       "\t Kettle     & 13        \\\\\n",
       "\t Cheese     & 12        \\\\\n",
       "\t Salt       & 12        \\\\\n",
       "\t Original   & 10        \\\\\n",
       "\t Chip       &  9        \\\\\n",
       "\t Salsa      &  9        \\\\\n",
       "\t Pringles   &  8        \\\\\n",
       "\t Chicken    &  7        \\\\\n",
       "\t Sea        &  6        \\\\\n",
       "\t Thinly     &  5        \\\\\n",
       "\t Vinegar    &  5        \\\\\n",
       "\t Chilli     &  5        \\\\\n",
       "\t Thins      &  5        \\\\\n",
       "\t Crisps     &  5        \\\\\n",
       "\t Natural    &  4        \\\\\n",
       "\t Cream      &  4        \\\\\n",
       "\t Deli       &  4        \\\\\n",
       "\t Supreme    &  4        \\\\\n",
       "\t Tortilla   &  3        \\\\\n",
       "\t Old        &  3        \\\\\n",
       "\t El         &  3        \\\\\n",
       "\t Paso       &  3        \\\\\n",
       "\t Dip        &  3        \\\\\n",
       "\t Tomato     &  3        \\\\\n",
       "\t Mild       &  3        \\\\\n",
       "\t Sensations &  3        \\\\\n",
       "\t Popd       &  3        \\\\\n",
       "\t ... & ...\\\\\n",
       "\t ChpsBtroot\\&Ricotta & 1                   \\\\\n",
       "\t Tasty              & 1                 \\\\\n",
       "\t Chipotle           & 1                 \\\\\n",
       "\t Barbeque           & 1                 \\\\\n",
       "\t Flavour            & 1                 \\\\\n",
       "\t Ched               & 1                 \\\\\n",
       "\t Whlgrn             & 1                 \\\\\n",
       "\t Cheddr\\&Mstrd       & 1                   \\\\\n",
       "\t Chs                & 1                 \\\\\n",
       "\t Bacon              & 1                 \\\\\n",
       "\t Balls              & 1                 \\\\\n",
       "\t Slt                & 1                 \\\\\n",
       "\t Vingar             & 1                 \\\\\n",
       "\t SourCream\\&Herbs    & 1                   \\\\\n",
       "\t ChpsFeta\\&Garlic    & 1                   \\\\\n",
       "\t Mango              & 1                 \\\\\n",
       "\t Chutny             & 1                 \\\\\n",
       "\t Papadums           & 1                 \\\\\n",
       "\t Steak              & 1                 \\\\\n",
       "\t Chimuchurri        & 1                 \\\\\n",
       "\t Whlegrn            & 1                 \\\\\n",
       "\t Frch/Onin          & 1                 \\\\\n",
       "\t Snag\\&Sauce         & 1                   \\\\\n",
       "\t \\&OnionStacked      & 1                   \\\\\n",
       "\t Pepper             & 1                 \\\\\n",
       "\t Chikn\\&Garlic       & 1                   \\\\\n",
       "\t Aioli              & 1                 \\\\\n",
       "\t Slow               & 1                 \\\\\n",
       "\t Belly              & 1                 \\\\\n",
       "\t Bolognese          & 1                 \\\\\n",
       "\\end{tabular}\n"
      ],
      "text/markdown": [
       "\n",
       "| words | N |\n",
       "|---|---|\n",
       "| Chips      | 21         |\n",
       "| Smiths     | 16         |\n",
       "| Crinkle    | 14         |\n",
       "| Kettle     | 13         |\n",
       "| Cheese     | 12         |\n",
       "| Salt       | 12         |\n",
       "| Original   | 10         |\n",
       "| Chip       |  9         |\n",
       "| Salsa      |  9         |\n",
       "| Pringles   |  8         |\n",
       "| Chicken    |  7         |\n",
       "| Sea        |  6         |\n",
       "| Thinly     |  5         |\n",
       "| Vinegar    |  5         |\n",
       "| Chilli     |  5         |\n",
       "| Thins      |  5         |\n",
       "| Crisps     |  5         |\n",
       "| Natural    |  4         |\n",
       "| Cream      |  4         |\n",
       "| Deli       |  4         |\n",
       "| Supreme    |  4         |\n",
       "| Tortilla   |  3         |\n",
       "| Old        |  3         |\n",
       "| El         |  3         |\n",
       "| Paso       |  3         |\n",
       "| Dip        |  3         |\n",
       "| Tomato     |  3         |\n",
       "| Mild       |  3         |\n",
       "| Sensations |  3         |\n",
       "| Popd       |  3         |\n",
       "| ... | ... |\n",
       "| ChpsBtroot&Ricotta | 1                  |\n",
       "| Tasty              | 1                  |\n",
       "| Chipotle           | 1                  |\n",
       "| Barbeque           | 1                  |\n",
       "| Flavour            | 1                  |\n",
       "| Ched               | 1                  |\n",
       "| Whlgrn             | 1                  |\n",
       "| Cheddr&Mstrd       | 1                  |\n",
       "| Chs                | 1                  |\n",
       "| Bacon              | 1                  |\n",
       "| Balls              | 1                  |\n",
       "| Slt                | 1                  |\n",
       "| Vingar             | 1                  |\n",
       "| SourCream&Herbs    | 1                  |\n",
       "| ChpsFeta&Garlic    | 1                  |\n",
       "| Mango              | 1                  |\n",
       "| Chutny             | 1                  |\n",
       "| Papadums           | 1                  |\n",
       "| Steak              | 1                  |\n",
       "| Chimuchurri        | 1                  |\n",
       "| Whlegrn            | 1                  |\n",
       "| Frch/Onin          | 1                  |\n",
       "| Snag&Sauce         | 1                  |\n",
       "| &OnionStacked      | 1                  |\n",
       "| Pepper             | 1                  |\n",
       "| Chikn&Garlic       | 1                  |\n",
       "| Aioli              | 1                  |\n",
       "| Slow               | 1                  |\n",
       "| Belly              | 1                  |\n",
       "| Bolognese          | 1                  |\n",
       "\n"
      ],
      "text/plain": [
       "    words              N  \n",
       "1   Chips              21 \n",
       "2   Smiths             16 \n",
       "3   Crinkle            14 \n",
       "4   Kettle             13 \n",
       "5   Cheese             12 \n",
       "6   Salt               12 \n",
       "7   Original           10 \n",
       "8   Chip                9 \n",
       "9   Salsa               9 \n",
       "10  Pringles            8 \n",
       "11  Chicken             7 \n",
       "12  Sea                 6 \n",
       "13  Thinly              5 \n",
       "14  Vinegar             5 \n",
       "15  Chilli              5 \n",
       "16  Thins               5 \n",
       "17  Crisps              5 \n",
       "18  Natural             4 \n",
       "19  Cream               4 \n",
       "20  Deli                4 \n",
       "21  Supreme             4 \n",
       "22  Tortilla            3 \n",
       "23  Old                 3 \n",
       "24  El                  3 \n",
       "25  Paso                3 \n",
       "26  Dip                 3 \n",
       "27  Tomato              3 \n",
       "28  Mild                3 \n",
       "29  Sensations          3 \n",
       "30  Popd                3 \n",
       "... ...                ...\n",
       "102 ChpsBtroot&Ricotta 1  \n",
       "103 Tasty              1  \n",
       "104 Chipotle           1  \n",
       "105 Barbeque           1  \n",
       "106 Flavour            1  \n",
       "107 Ched               1  \n",
       "108 Whlgrn             1  \n",
       "109 Cheddr&Mstrd       1  \n",
       "110 Chs                1  \n",
       "111 Bacon              1  \n",
       "112 Balls              1  \n",
       "113 Slt                1  \n",
       "114 Vingar             1  \n",
       "115 SourCream&Herbs    1  \n",
       "116 ChpsFeta&Garlic    1  \n",
       "117 Mango              1  \n",
       "118 Chutny             1  \n",
       "119 Papadums           1  \n",
       "120 Steak              1  \n",
       "121 Chimuchurri        1  \n",
       "122 Whlegrn            1  \n",
       "123 Frch/Onin          1  \n",
       "124 Snag&Sauce         1  \n",
       "125 &OnionStacked      1  \n",
       "126 Pepper             1  \n",
       "127 Chikn&Garlic       1  \n",
       "128 Aioli              1  \n",
       "129 Slow               1  \n",
       "130 Belly              1  \n",
       "131 Bolognese          1  "
      ]
     },
     "metadata": {},
     "output_type": "display_data"
    }
   ],
   "source": [
    "productWords[, .N, words][order(N, decreasing = TRUE)]"
   ]
  },
  {
   "cell_type": "markdown",
   "metadata": {},
   "source": [
    "As we are only interested in chip sales, the salsa products need to be eliminated"
   ]
  },
  {
   "cell_type": "code",
   "execution_count": 15,
   "metadata": {},
   "outputs": [],
   "source": [
    "transactionData[, SALSA := grepl(\"salsa\", tolower(PROD_NAME))]"
   ]
  },
  {
   "cell_type": "code",
   "execution_count": 16,
   "metadata": {},
   "outputs": [],
   "source": [
    "transactionData <‐ transactionData[SALSA == FALSE, ][, SALSA := NULL]"
   ]
  },
  {
   "cell_type": "markdown",
   "metadata": {},
   "source": [
    "Check the transaction dataset to identify the value spreads of the columns."
   ]
  },
  {
   "cell_type": "code",
   "execution_count": 17,
   "metadata": {},
   "outputs": [
    {
     "data": {
      "text/plain": [
       "      DATE              STORE_NBR     LYLTY_CARD_NBR        TXN_ID       \n",
       " Min.   :2018-07-01   Min.   :  1.0   Min.   :   1000   Min.   :      1  \n",
       " 1st Qu.:2018-09-30   1st Qu.: 70.0   1st Qu.:  70015   1st Qu.:  67569  \n",
       " Median :2018-12-30   Median :130.0   Median : 130367   Median : 135183  \n",
       " Mean   :2018-12-30   Mean   :135.1   Mean   : 135531   Mean   : 135131  \n",
       " 3rd Qu.:2019-03-31   3rd Qu.:203.0   3rd Qu.: 203084   3rd Qu.: 202654  \n",
       " Max.   :2019-06-30   Max.   :272.0   Max.   :2373711   Max.   :2415841  \n",
       "    PROD_NBR       PROD_NAME            PROD_QTY         TOT_SALES      \n",
       " Min.   :  1.00   Length:246742      Min.   :  1.000   Min.   :  1.700  \n",
       " 1st Qu.: 26.00   Class :character   1st Qu.:  2.000   1st Qu.:  5.800  \n",
       " Median : 53.00   Mode  :character   Median :  2.000   Median :  7.400  \n",
       " Mean   : 56.35                      Mean   :  1.908   Mean   :  7.321  \n",
       " 3rd Qu.: 87.00                      3rd Qu.:  2.000   3rd Qu.:  8.800  \n",
       " Max.   :114.00                      Max.   :200.000   Max.   :650.000  "
      ]
     },
     "metadata": {},
     "output_type": "display_data"
    }
   ],
   "source": [
    "summary(transactionData)"
   ]
  },
  {
   "cell_type": "markdown",
   "metadata": {},
   "source": [
    "From above the maximum product quantity in a single transaction is 200 which is unusual. We inspect to fin out who bought this much and if the customer had any other transactions."
   ]
  },
  {
   "cell_type": "code",
   "execution_count": 18,
   "metadata": {},
   "outputs": [
    {
     "data": {
      "text/html": [
       "<table>\n",
       "<thead><tr><th scope=col>DATE</th><th scope=col>STORE_NBR</th><th scope=col>LYLTY_CARD_NBR</th><th scope=col>TXN_ID</th><th scope=col>PROD_NBR</th><th scope=col>PROD_NAME</th><th scope=col>PROD_QTY</th><th scope=col>TOT_SALES</th></tr></thead>\n",
       "<tbody>\n",
       "\t<tr><td>2018-08-19                      </td><td>226                             </td><td>226000                          </td><td>226201                          </td><td>4                               </td><td>Dorito Corn Chp     Supreme 380g</td><td>200                             </td><td>650                             </td></tr>\n",
       "\t<tr><td>2019-05-20                      </td><td>226                             </td><td>226000                          </td><td>226210                          </td><td>4                               </td><td>Dorito Corn Chp     Supreme 380g</td><td>200                             </td><td>650                             </td></tr>\n",
       "</tbody>\n",
       "</table>\n"
      ],
      "text/latex": [
       "\\begin{tabular}{r|llllllll}\n",
       " DATE & STORE\\_NBR & LYLTY\\_CARD\\_NBR & TXN\\_ID & PROD\\_NBR & PROD\\_NAME & PROD\\_QTY & TOT\\_SALES\\\\\n",
       "\\hline\n",
       "\t 2018-08-19                       & 226                              & 226000                           & 226201                           & 4                                & Dorito Corn Chp     Supreme 380g & 200                              & 650                             \\\\\n",
       "\t 2019-05-20                       & 226                              & 226000                           & 226210                           & 4                                & Dorito Corn Chp     Supreme 380g & 200                              & 650                             \\\\\n",
       "\\end{tabular}\n"
      ],
      "text/markdown": [
       "\n",
       "| DATE | STORE_NBR | LYLTY_CARD_NBR | TXN_ID | PROD_NBR | PROD_NAME | PROD_QTY | TOT_SALES |\n",
       "|---|---|---|---|---|---|---|---|\n",
       "| 2018-08-19                       | 226                              | 226000                           | 226201                           | 4                                | Dorito Corn Chp     Supreme 380g | 200                              | 650                              |\n",
       "| 2019-05-20                       | 226                              | 226000                           | 226210                           | 4                                | Dorito Corn Chp     Supreme 380g | 200                              | 650                              |\n",
       "\n"
      ],
      "text/plain": [
       "  DATE       STORE_NBR LYLTY_CARD_NBR TXN_ID PROD_NBR\n",
       "1 2018-08-19 226       226000         226201 4       \n",
       "2 2019-05-20 226       226000         226210 4       \n",
       "  PROD_NAME                        PROD_QTY TOT_SALES\n",
       "1 Dorito Corn Chp     Supreme 380g 200      650      \n",
       "2 Dorito Corn Chp     Supreme 380g 200      650      "
      ]
     },
     "metadata": {},
     "output_type": "display_data"
    }
   ],
   "source": [
    "transactionData[PROD_QTY == 200, ]"
   ]
  },
  {
   "cell_type": "code",
   "execution_count": 19,
   "metadata": {},
   "outputs": [
    {
     "data": {
      "text/html": [
       "<table>\n",
       "<thead><tr><th scope=col>DATE</th><th scope=col>STORE_NBR</th><th scope=col>LYLTY_CARD_NBR</th><th scope=col>TXN_ID</th><th scope=col>PROD_NBR</th><th scope=col>PROD_NAME</th><th scope=col>PROD_QTY</th><th scope=col>TOT_SALES</th></tr></thead>\n",
       "<tbody>\n",
       "\t<tr><td>2018-08-19                      </td><td>226                             </td><td>226000                          </td><td>226201                          </td><td>4                               </td><td>Dorito Corn Chp     Supreme 380g</td><td>200                             </td><td>650                             </td></tr>\n",
       "\t<tr><td>2019-05-20                      </td><td>226                             </td><td>226000                          </td><td>226210                          </td><td>4                               </td><td>Dorito Corn Chp     Supreme 380g</td><td>200                             </td><td>650                             </td></tr>\n",
       "</tbody>\n",
       "</table>\n"
      ],
      "text/latex": [
       "\\begin{tabular}{r|llllllll}\n",
       " DATE & STORE\\_NBR & LYLTY\\_CARD\\_NBR & TXN\\_ID & PROD\\_NBR & PROD\\_NAME & PROD\\_QTY & TOT\\_SALES\\\\\n",
       "\\hline\n",
       "\t 2018-08-19                       & 226                              & 226000                           & 226201                           & 4                                & Dorito Corn Chp     Supreme 380g & 200                              & 650                             \\\\\n",
       "\t 2019-05-20                       & 226                              & 226000                           & 226210                           & 4                                & Dorito Corn Chp     Supreme 380g & 200                              & 650                             \\\\\n",
       "\\end{tabular}\n"
      ],
      "text/markdown": [
       "\n",
       "| DATE | STORE_NBR | LYLTY_CARD_NBR | TXN_ID | PROD_NBR | PROD_NAME | PROD_QTY | TOT_SALES |\n",
       "|---|---|---|---|---|---|---|---|\n",
       "| 2018-08-19                       | 226                              | 226000                           | 226201                           | 4                                | Dorito Corn Chp     Supreme 380g | 200                              | 650                              |\n",
       "| 2019-05-20                       | 226                              | 226000                           | 226210                           | 4                                | Dorito Corn Chp     Supreme 380g | 200                              | 650                              |\n",
       "\n"
      ],
      "text/plain": [
       "  DATE       STORE_NBR LYLTY_CARD_NBR TXN_ID PROD_NBR\n",
       "1 2018-08-19 226       226000         226201 4       \n",
       "2 2019-05-20 226       226000         226210 4       \n",
       "  PROD_NAME                        PROD_QTY TOT_SALES\n",
       "1 Dorito Corn Chp     Supreme 380g 200      650      \n",
       "2 Dorito Corn Chp     Supreme 380g 200      650      "
      ]
     },
     "metadata": {},
     "output_type": "display_data"
    }
   ],
   "source": [
    "transactionData[LYLTY_CARD_NBR == 226000, ]"
   ]
  },
  {
   "cell_type": "markdown",
   "metadata": {},
   "source": [
    "Remove the outlier."
   ]
  },
  {
   "cell_type": "code",
   "execution_count": 20,
   "metadata": {},
   "outputs": [],
   "source": [
    "transactionData <‐ transactionData[LYLTY_CARD_NBR != 226000, ]"
   ]
  },
  {
   "cell_type": "code",
   "execution_count": 21,
   "metadata": {},
   "outputs": [
    {
     "data": {
      "text/plain": [
       "      DATE              STORE_NBR     LYLTY_CARD_NBR        TXN_ID       \n",
       " Min.   :2018-07-01   Min.   :  1.0   Min.   :   1000   Min.   :      1  \n",
       " 1st Qu.:2018-09-30   1st Qu.: 70.0   1st Qu.:  70015   1st Qu.:  67569  \n",
       " Median :2018-12-30   Median :130.0   Median : 130367   Median : 135182  \n",
       " Mean   :2018-12-30   Mean   :135.1   Mean   : 135530   Mean   : 135130  \n",
       " 3rd Qu.:2019-03-31   3rd Qu.:203.0   3rd Qu.: 203083   3rd Qu.: 202652  \n",
       " Max.   :2019-06-30   Max.   :272.0   Max.   :2373711   Max.   :2415841  \n",
       "    PROD_NBR       PROD_NAME            PROD_QTY       TOT_SALES     \n",
       " Min.   :  1.00   Length:246740      Min.   :1.000   Min.   : 1.700  \n",
       " 1st Qu.: 26.00   Class :character   1st Qu.:2.000   1st Qu.: 5.800  \n",
       " Median : 53.00   Mode  :character   Median :2.000   Median : 7.400  \n",
       " Mean   : 56.35                      Mean   :1.906   Mean   : 7.316  \n",
       " 3rd Qu.: 87.00                      3rd Qu.:2.000   3rd Qu.: 8.800  \n",
       " Max.   :114.00                      Max.   :5.000   Max.   :29.500  "
      ]
     },
     "metadata": {},
     "output_type": "display_data"
    }
   ],
   "source": [
    "summary(transactionData)"
   ]
  },
  {
   "cell_type": "markdown",
   "metadata": {},
   "source": [
    "Count the number of transactions by date."
   ]
  },
  {
   "cell_type": "code",
   "execution_count": 22,
   "metadata": {},
   "outputs": [
    {
     "data": {
      "text/html": [
       "<table>\n",
       "<thead><tr><th scope=col>DATE</th><th scope=col>N</th></tr></thead>\n",
       "<tbody>\n",
       "\t<tr><td>2018-10-17</td><td>682       </td></tr>\n",
       "\t<tr><td>2019-05-14</td><td>705       </td></tr>\n",
       "\t<tr><td>2019-05-20</td><td>707       </td></tr>\n",
       "\t<tr><td>2018-08-17</td><td>663       </td></tr>\n",
       "\t<tr><td>2018-08-18</td><td>683       </td></tr>\n",
       "\t<tr><td>2019-05-16</td><td>664       </td></tr>\n",
       "\t<tr><td>2018-08-20</td><td>644       </td></tr>\n",
       "\t<tr><td>2019-05-17</td><td>652       </td></tr>\n",
       "\t<tr><td>2019-05-18</td><td>626       </td></tr>\n",
       "\t<tr><td>2019-05-15</td><td>632       </td></tr>\n",
       "\t<tr><td>2019-05-19</td><td>730       </td></tr>\n",
       "\t<tr><td>2018-08-14</td><td>702       </td></tr>\n",
       "\t<tr><td>2018-08-16</td><td>690       </td></tr>\n",
       "\t<tr><td>2018-08-19</td><td>670       </td></tr>\n",
       "\t<tr><td>2018-08-15</td><td>702       </td></tr>\n",
       "\t<tr><td>2019-06-17</td><td>658       </td></tr>\n",
       "\t<tr><td>2018-09-05</td><td>685       </td></tr>\n",
       "\t<tr><td>2018-09-27</td><td>632       </td></tr>\n",
       "\t<tr><td>2019-02-27</td><td>687       </td></tr>\n",
       "\t<tr><td>2019-03-19</td><td>688       </td></tr>\n",
       "\t<tr><td>2018-11-25</td><td>610       </td></tr>\n",
       "\t<tr><td>2018-11-10</td><td>713       </td></tr>\n",
       "\t<tr><td>2019-03-09</td><td>637       </td></tr>\n",
       "\t<tr><td>2018-11-01</td><td>695       </td></tr>\n",
       "\t<tr><td>2019-03-13</td><td>702       </td></tr>\n",
       "\t<tr><td>2019-04-06</td><td>681       </td></tr>\n",
       "\t<tr><td>2018-07-30</td><td>692       </td></tr>\n",
       "\t<tr><td>2018-10-18</td><td>611       </td></tr>\n",
       "\t<tr><td>2018-11-05</td><td>642       </td></tr>\n",
       "\t<tr><td>2019-03-04</td><td>670       </td></tr>\n",
       "\t<tr><td>...</td><td>...</td></tr>\n",
       "\t<tr><td>2019-01-08</td><td>669       </td></tr>\n",
       "\t<tr><td>2018-07-10</td><td>650       </td></tr>\n",
       "\t<tr><td>2019-05-27</td><td>665       </td></tr>\n",
       "\t<tr><td>2018-08-08</td><td>695       </td></tr>\n",
       "\t<tr><td>2019-05-01</td><td>643       </td></tr>\n",
       "\t<tr><td>2018-09-11</td><td>647       </td></tr>\n",
       "\t<tr><td>2019-03-03</td><td>674       </td></tr>\n",
       "\t<tr><td>2019-04-25</td><td>701       </td></tr>\n",
       "\t<tr><td>2018-07-15</td><td>712       </td></tr>\n",
       "\t<tr><td>2018-07-05</td><td>660       </td></tr>\n",
       "\t<tr><td>2019-06-20</td><td>698       </td></tr>\n",
       "\t<tr><td>2019-02-16</td><td>670       </td></tr>\n",
       "\t<tr><td>2018-10-04</td><td>684       </td></tr>\n",
       "\t<tr><td>2018-09-19</td><td>670       </td></tr>\n",
       "\t<tr><td>2018-09-29</td><td>671       </td></tr>\n",
       "\t<tr><td>2019-04-05</td><td>664       </td></tr>\n",
       "\t<tr><td>2018-12-31</td><td>650       </td></tr>\n",
       "\t<tr><td>2019-01-23</td><td>647       </td></tr>\n",
       "\t<tr><td>2019-04-22</td><td>671       </td></tr>\n",
       "\t<tr><td>2019-06-14</td><td>743       </td></tr>\n",
       "\t<tr><td>2019-01-11</td><td>631       </td></tr>\n",
       "\t<tr><td>2018-09-03</td><td>661       </td></tr>\n",
       "\t<tr><td>2018-11-21</td><td>651       </td></tr>\n",
       "\t<tr><td>2018-12-26</td><td>700       </td></tr>\n",
       "\t<tr><td>2019-05-10</td><td>665       </td></tr>\n",
       "\t<tr><td>2018-12-08</td><td>622       </td></tr>\n",
       "\t<tr><td>2019-01-30</td><td>689       </td></tr>\n",
       "\t<tr><td>2019-02-09</td><td>671       </td></tr>\n",
       "\t<tr><td>2018-08-31</td><td>658       </td></tr>\n",
       "\t<tr><td>2019-02-12</td><td>684       </td></tr>\n",
       "</tbody>\n",
       "</table>\n"
      ],
      "text/latex": [
       "\\begin{tabular}{r|ll}\n",
       " DATE & N\\\\\n",
       "\\hline\n",
       "\t 2018-10-17 & 682       \\\\\n",
       "\t 2019-05-14 & 705       \\\\\n",
       "\t 2019-05-20 & 707       \\\\\n",
       "\t 2018-08-17 & 663       \\\\\n",
       "\t 2018-08-18 & 683       \\\\\n",
       "\t 2019-05-16 & 664       \\\\\n",
       "\t 2018-08-20 & 644       \\\\\n",
       "\t 2019-05-17 & 652       \\\\\n",
       "\t 2019-05-18 & 626       \\\\\n",
       "\t 2019-05-15 & 632       \\\\\n",
       "\t 2019-05-19 & 730       \\\\\n",
       "\t 2018-08-14 & 702       \\\\\n",
       "\t 2018-08-16 & 690       \\\\\n",
       "\t 2018-08-19 & 670       \\\\\n",
       "\t 2018-08-15 & 702       \\\\\n",
       "\t 2019-06-17 & 658       \\\\\n",
       "\t 2018-09-05 & 685       \\\\\n",
       "\t 2018-09-27 & 632       \\\\\n",
       "\t 2019-02-27 & 687       \\\\\n",
       "\t 2019-03-19 & 688       \\\\\n",
       "\t 2018-11-25 & 610       \\\\\n",
       "\t 2018-11-10 & 713       \\\\\n",
       "\t 2019-03-09 & 637       \\\\\n",
       "\t 2018-11-01 & 695       \\\\\n",
       "\t 2019-03-13 & 702       \\\\\n",
       "\t 2019-04-06 & 681       \\\\\n",
       "\t 2018-07-30 & 692       \\\\\n",
       "\t 2018-10-18 & 611       \\\\\n",
       "\t 2018-11-05 & 642       \\\\\n",
       "\t 2019-03-04 & 670       \\\\\n",
       "\t ... & ...\\\\\n",
       "\t 2019-01-08 & 669       \\\\\n",
       "\t 2018-07-10 & 650       \\\\\n",
       "\t 2019-05-27 & 665       \\\\\n",
       "\t 2018-08-08 & 695       \\\\\n",
       "\t 2019-05-01 & 643       \\\\\n",
       "\t 2018-09-11 & 647       \\\\\n",
       "\t 2019-03-03 & 674       \\\\\n",
       "\t 2019-04-25 & 701       \\\\\n",
       "\t 2018-07-15 & 712       \\\\\n",
       "\t 2018-07-05 & 660       \\\\\n",
       "\t 2019-06-20 & 698       \\\\\n",
       "\t 2019-02-16 & 670       \\\\\n",
       "\t 2018-10-04 & 684       \\\\\n",
       "\t 2018-09-19 & 670       \\\\\n",
       "\t 2018-09-29 & 671       \\\\\n",
       "\t 2019-04-05 & 664       \\\\\n",
       "\t 2018-12-31 & 650       \\\\\n",
       "\t 2019-01-23 & 647       \\\\\n",
       "\t 2019-04-22 & 671       \\\\\n",
       "\t 2019-06-14 & 743       \\\\\n",
       "\t 2019-01-11 & 631       \\\\\n",
       "\t 2018-09-03 & 661       \\\\\n",
       "\t 2018-11-21 & 651       \\\\\n",
       "\t 2018-12-26 & 700       \\\\\n",
       "\t 2019-05-10 & 665       \\\\\n",
       "\t 2018-12-08 & 622       \\\\\n",
       "\t 2019-01-30 & 689       \\\\\n",
       "\t 2019-02-09 & 671       \\\\\n",
       "\t 2018-08-31 & 658       \\\\\n",
       "\t 2019-02-12 & 684       \\\\\n",
       "\\end{tabular}\n"
      ],
      "text/markdown": [
       "\n",
       "| DATE | N |\n",
       "|---|---|\n",
       "| 2018-10-17 | 682        |\n",
       "| 2019-05-14 | 705        |\n",
       "| 2019-05-20 | 707        |\n",
       "| 2018-08-17 | 663        |\n",
       "| 2018-08-18 | 683        |\n",
       "| 2019-05-16 | 664        |\n",
       "| 2018-08-20 | 644        |\n",
       "| 2019-05-17 | 652        |\n",
       "| 2019-05-18 | 626        |\n",
       "| 2019-05-15 | 632        |\n",
       "| 2019-05-19 | 730        |\n",
       "| 2018-08-14 | 702        |\n",
       "| 2018-08-16 | 690        |\n",
       "| 2018-08-19 | 670        |\n",
       "| 2018-08-15 | 702        |\n",
       "| 2019-06-17 | 658        |\n",
       "| 2018-09-05 | 685        |\n",
       "| 2018-09-27 | 632        |\n",
       "| 2019-02-27 | 687        |\n",
       "| 2019-03-19 | 688        |\n",
       "| 2018-11-25 | 610        |\n",
       "| 2018-11-10 | 713        |\n",
       "| 2019-03-09 | 637        |\n",
       "| 2018-11-01 | 695        |\n",
       "| 2019-03-13 | 702        |\n",
       "| 2019-04-06 | 681        |\n",
       "| 2018-07-30 | 692        |\n",
       "| 2018-10-18 | 611        |\n",
       "| 2018-11-05 | 642        |\n",
       "| 2019-03-04 | 670        |\n",
       "| ... | ... |\n",
       "| 2019-01-08 | 669        |\n",
       "| 2018-07-10 | 650        |\n",
       "| 2019-05-27 | 665        |\n",
       "| 2018-08-08 | 695        |\n",
       "| 2019-05-01 | 643        |\n",
       "| 2018-09-11 | 647        |\n",
       "| 2019-03-03 | 674        |\n",
       "| 2019-04-25 | 701        |\n",
       "| 2018-07-15 | 712        |\n",
       "| 2018-07-05 | 660        |\n",
       "| 2019-06-20 | 698        |\n",
       "| 2019-02-16 | 670        |\n",
       "| 2018-10-04 | 684        |\n",
       "| 2018-09-19 | 670        |\n",
       "| 2018-09-29 | 671        |\n",
       "| 2019-04-05 | 664        |\n",
       "| 2018-12-31 | 650        |\n",
       "| 2019-01-23 | 647        |\n",
       "| 2019-04-22 | 671        |\n",
       "| 2019-06-14 | 743        |\n",
       "| 2019-01-11 | 631        |\n",
       "| 2018-09-03 | 661        |\n",
       "| 2018-11-21 | 651        |\n",
       "| 2018-12-26 | 700        |\n",
       "| 2019-05-10 | 665        |\n",
       "| 2018-12-08 | 622        |\n",
       "| 2019-01-30 | 689        |\n",
       "| 2019-02-09 | 671        |\n",
       "| 2018-08-31 | 658        |\n",
       "| 2019-02-12 | 684        |\n",
       "\n"
      ],
      "text/plain": [
       "    DATE       N  \n",
       "1   2018-10-17 682\n",
       "2   2019-05-14 705\n",
       "3   2019-05-20 707\n",
       "4   2018-08-17 663\n",
       "5   2018-08-18 683\n",
       "6   2019-05-16 664\n",
       "7   2018-08-20 644\n",
       "8   2019-05-17 652\n",
       "9   2019-05-18 626\n",
       "10  2019-05-15 632\n",
       "11  2019-05-19 730\n",
       "12  2018-08-14 702\n",
       "13  2018-08-16 690\n",
       "14  2018-08-19 670\n",
       "15  2018-08-15 702\n",
       "16  2019-06-17 658\n",
       "17  2018-09-05 685\n",
       "18  2018-09-27 632\n",
       "19  2019-02-27 687\n",
       "20  2019-03-19 688\n",
       "21  2018-11-25 610\n",
       "22  2018-11-10 713\n",
       "23  2019-03-09 637\n",
       "24  2018-11-01 695\n",
       "25  2019-03-13 702\n",
       "26  2019-04-06 681\n",
       "27  2018-07-30 692\n",
       "28  2018-10-18 611\n",
       "29  2018-11-05 642\n",
       "30  2019-03-04 670\n",
       "... ...        ...\n",
       "335 2019-01-08 669\n",
       "336 2018-07-10 650\n",
       "337 2019-05-27 665\n",
       "338 2018-08-08 695\n",
       "339 2019-05-01 643\n",
       "340 2018-09-11 647\n",
       "341 2019-03-03 674\n",
       "342 2019-04-25 701\n",
       "343 2018-07-15 712\n",
       "344 2018-07-05 660\n",
       "345 2019-06-20 698\n",
       "346 2019-02-16 670\n",
       "347 2018-10-04 684\n",
       "348 2018-09-19 670\n",
       "349 2018-09-29 671\n",
       "350 2019-04-05 664\n",
       "351 2018-12-31 650\n",
       "352 2019-01-23 647\n",
       "353 2019-04-22 671\n",
       "354 2019-06-14 743\n",
       "355 2019-01-11 631\n",
       "356 2018-09-03 661\n",
       "357 2018-11-21 651\n",
       "358 2018-12-26 700\n",
       "359 2019-05-10 665\n",
       "360 2018-12-08 622\n",
       "361 2019-01-30 689\n",
       "362 2019-02-09 671\n",
       "363 2018-08-31 658\n",
       "364 2019-02-12 684"
      ]
     },
     "metadata": {},
     "output_type": "display_data"
    }
   ],
   "source": [
    "transactionData[, .N, by = DATE]"
   ]
  },
  {
   "cell_type": "markdown",
   "metadata": {},
   "source": [
    "Above there are only 364 days instead of 365 days. To include the missing day, a sequence of dates is created and merged with the transaction dataset."
   ]
  },
  {
   "cell_type": "code",
   "execution_count": 23,
   "metadata": {},
   "outputs": [],
   "source": [
    "allDates <‐ data.table(seq(as.Date(\"2018/07/01\"), as.Date(\"2019/06/30\"), by = \"day\"))\n",
    "setnames(allDates, \"DATE\") \n",
    "transactions_by_day <‐ merge(allDates, transactionData[, .N, by = DATE], all.x = TRUE)"
   ]
  },
  {
   "cell_type": "code",
   "execution_count": 24,
   "metadata": {},
   "outputs": [
    {
     "name": "stdout",
     "output_type": "stream",
     "text": [
      "package 'ggplot2' successfully unpacked and MD5 sums checked\n",
      "\n",
      "The downloaded binary packages are in\n",
      "\tC:\\Users\\user\\AppData\\Local\\Temp\\RtmpCmly7Z\\downloaded_packages\n"
     ]
    }
   ],
   "source": [
    "install.packages(\"ggplot2\")"
   ]
  },
  {
   "cell_type": "code",
   "execution_count": 25,
   "metadata": {},
   "outputs": [
    {
     "name": "stderr",
     "output_type": "stream",
     "text": [
      "Warning message:\n",
      "\"package 'ggplot2' was built under R version 3.6.3\""
     ]
    }
   ],
   "source": [
    "library(ggplot2)"
   ]
  },
  {
   "cell_type": "code",
   "execution_count": 26,
   "metadata": {},
   "outputs": [],
   "source": [
    "theme_set(theme_bw()) \n",
    "theme_update(plot.title = element_text(hjust = 0.5))"
   ]
  },
  {
   "cell_type": "markdown",
   "metadata": {},
   "source": [
    "Below the transactions per month are plotted."
   ]
  },
  {
   "cell_type": "code",
   "execution_count": 27,
   "metadata": {},
   "outputs": [
    {
     "ename": "ERROR",
     "evalue": "Error: Cannot use `+.gg()` with a single argument. Did you accidentally put + on a new line?\n",
     "output_type": "error",
     "traceback": [
      "Error: Cannot use `+.gg()` with a single argument. Did you accidentally put + on a new line?\nTraceback:\n",
      "1. `+.gg`(scale_x_date(breaks = \"1 month\"))",
      "2. abort(\"Cannot use `+.gg()` with a single argument. Did you accidentally put + on a new line?\")",
      "3. signal_abort(cnd)"
     ]
    },
    {
     "data": {
      "image/png": "[encoded data removed]",
      "text/plain": [
       "plot without title"
      ]
     },
     "metadata": {},
     "output_type": "display_data"
    }
   ],
   "source": [
    "ggplot(transactions_by_day, aes(x = DATE, y = N)) + geom_line() + labs(x = \"Day\", y = \"Number of transactions\", title = \"Transactions over time\") \n",
    "+ scale_x_date(breaks = \"1 month\") + theme(axis.text.x = element_text(angle = 90, vjust = 0.5))"
   ]
  },
  {
   "cell_type": "markdown",
   "metadata": {},
   "source": [
    "To zoom into the break in sales pattern, another plot is made."
   ]
  },
  {
   "cell_type": "code",
   "execution_count": 28,
   "metadata": {},
   "outputs": [
    {
     "ename": "ERROR",
     "evalue": "Error: Cannot use `+.gg()` with a single argument. Did you accidentally put + on a new line?\n",
     "output_type": "error",
     "traceback": [
      "Error: Cannot use `+.gg()` with a single argument. Did you accidentally put + on a new line?\nTraceback:\n",
      "1. `+.gg`(scale_x_date(breaks = \"1 day\"))",
      "2. abort(\"Cannot use `+.gg()` with a single argument. Did you accidentally put + on a new line?\")",
      "3. signal_abort(cnd)"
     ]
    },
    {
     "data": {
      "image/png": "[encoded data removed]",
      "text/plain": [
       "plot without title"
      ]
     },
     "metadata": {},
     "output_type": "display_data"
    }
   ],
   "source": [
    "ggplot(transactions_by_day[month(DATE) == 12, ], aes(x = DATE, y = N)) + geom_line() + labs(x = \"Day\", y = \"Number of transactions\", title = \"Transactions over time\") \n",
    "+ scale_x_date(breaks = \"1 day\") + theme(axis.text.x = element_text(angle = 90, vjust = 0.5))"
   ]
  },
  {
   "cell_type": "code",
   "execution_count": 29,
   "metadata": {},
   "outputs": [
    {
     "name": "stdout",
     "output_type": "stream",
     "text": [
      "package 'tidyverse' successfully unpacked and MD5 sums checked\n",
      "\n",
      "The downloaded binary packages are in\n",
      "\tC:\\Users\\user\\AppData\\Local\\Temp\\RtmpCmly7Z\\downloaded_packages\n"
     ]
    }
   ],
   "source": [
    "install.packages(\"tidyverse\")"
   ]
  },
  {
   "cell_type": "code",
   "execution_count": 30,
   "metadata": {},
   "outputs": [
    {
     "name": "stderr",
     "output_type": "stream",
     "text": [
      "Warning message:\n",
      "\"package 'tidyverse' was built under R version 3.6.3\"-- Attaching packages --------------------------------------- tidyverse 1.3.0 --\n",
      "v tibble  3.0.3     v dplyr   1.0.0\n",
      "v tidyr   1.1.0     v stringr 1.4.0\n",
      "v readr   1.3.1     v forcats 0.5.0\n",
      "v purrr   0.3.4     \n",
      "Warning message:\n",
      "\"package 'tibble' was built under R version 3.6.3\"Warning message:\n",
      "\"package 'tidyr' was built under R version 3.6.3\"Warning message:\n",
      "\"package 'readr' was built under R version 3.6.3\"Warning message:\n",
      "\"package 'purrr' was built under R version 3.6.3\"Warning message:\n",
      "\"package 'dplyr' was built under R version 3.6.3\"Warning message:\n",
      "\"package 'stringr' was built under R version 3.6.3\"Warning message:\n",
      "\"package 'forcats' was built under R version 3.6.3\"-- Conflicts ------------------------------------------ tidyverse_conflicts() --\n",
      "x dplyr::between()   masks data.table::between()\n",
      "x dplyr::filter()    masks stats::filter()\n",
      "x dplyr::first()     masks data.table::first()\n",
      "x dplyr::lag()       masks stats::lag()\n",
      "x dplyr::last()      masks data.table::last()\n",
      "x purrr::transpose() masks data.table::transpose()\n"
     ]
    }
   ],
   "source": [
    "library(tidyverse)"
   ]
  },
  {
   "cell_type": "markdown",
   "metadata": {},
   "source": [
    "Check the pack sizes and count the number of packs bought by size. Then a histogram is made to show the pack size numbers."
   ]
  },
  {
   "cell_type": "code",
   "execution_count": 31,
   "metadata": {},
   "outputs": [],
   "source": [
    "transactionData[, PACK_SIZE := parse_number(PROD_NAME)]"
   ]
  },
  {
   "cell_type": "code",
   "execution_count": 32,
   "metadata": {},
   "outputs": [
    {
     "data": {
      "text/html": [
       "<table>\n",
       "<thead><tr><th scope=col>PACK_SIZE</th><th scope=col>N</th></tr></thead>\n",
       "<tbody>\n",
       "\t<tr><td> 70  </td><td> 1507</td></tr>\n",
       "\t<tr><td> 90  </td><td> 3008</td></tr>\n",
       "\t<tr><td>110  </td><td>22387</td></tr>\n",
       "\t<tr><td>125  </td><td> 1454</td></tr>\n",
       "\t<tr><td>134  </td><td>25102</td></tr>\n",
       "\t<tr><td>135  </td><td> 3257</td></tr>\n",
       "\t<tr><td>150  </td><td>40203</td></tr>\n",
       "\t<tr><td>160  </td><td> 2970</td></tr>\n",
       "\t<tr><td>165  </td><td>15297</td></tr>\n",
       "\t<tr><td>170  </td><td>19983</td></tr>\n",
       "\t<tr><td>175  </td><td>66390</td></tr>\n",
       "\t<tr><td>180  </td><td> 1468</td></tr>\n",
       "\t<tr><td>190  </td><td> 2995</td></tr>\n",
       "\t<tr><td>200  </td><td> 4473</td></tr>\n",
       "\t<tr><td>210  </td><td> 6272</td></tr>\n",
       "\t<tr><td>220  </td><td> 1564</td></tr>\n",
       "\t<tr><td>250  </td><td> 3169</td></tr>\n",
       "\t<tr><td>270  </td><td> 6285</td></tr>\n",
       "\t<tr><td>330  </td><td>12540</td></tr>\n",
       "\t<tr><td>380  </td><td> 6416</td></tr>\n",
       "</tbody>\n",
       "</table>\n"
      ],
      "text/latex": [
       "\\begin{tabular}{r|ll}\n",
       " PACK\\_SIZE & N\\\\\n",
       "\\hline\n",
       "\t  70   &  1507\\\\\n",
       "\t  90   &  3008\\\\\n",
       "\t 110   & 22387\\\\\n",
       "\t 125   &  1454\\\\\n",
       "\t 134   & 25102\\\\\n",
       "\t 135   &  3257\\\\\n",
       "\t 150   & 40203\\\\\n",
       "\t 160   &  2970\\\\\n",
       "\t 165   & 15297\\\\\n",
       "\t 170   & 19983\\\\\n",
       "\t 175   & 66390\\\\\n",
       "\t 180   &  1468\\\\\n",
       "\t 190   &  2995\\\\\n",
       "\t 200   &  4473\\\\\n",
       "\t 210   &  6272\\\\\n",
       "\t 220   &  1564\\\\\n",
       "\t 250   &  3169\\\\\n",
       "\t 270   &  6285\\\\\n",
       "\t 330   & 12540\\\\\n",
       "\t 380   &  6416\\\\\n",
       "\\end{tabular}\n"
      ],
      "text/markdown": [
       "\n",
       "| PACK_SIZE | N |\n",
       "|---|---|\n",
       "|  70   |  1507 |\n",
       "|  90   |  3008 |\n",
       "| 110   | 22387 |\n",
       "| 125   |  1454 |\n",
       "| 134   | 25102 |\n",
       "| 135   |  3257 |\n",
       "| 150   | 40203 |\n",
       "| 160   |  2970 |\n",
       "| 165   | 15297 |\n",
       "| 170   | 19983 |\n",
       "| 175   | 66390 |\n",
       "| 180   |  1468 |\n",
       "| 190   |  2995 |\n",
       "| 200   |  4473 |\n",
       "| 210   |  6272 |\n",
       "| 220   |  1564 |\n",
       "| 250   |  3169 |\n",
       "| 270   |  6285 |\n",
       "| 330   | 12540 |\n",
       "| 380   |  6416 |\n",
       "\n"
      ],
      "text/plain": [
       "   PACK_SIZE N    \n",
       "1   70        1507\n",
       "2   90        3008\n",
       "3  110       22387\n",
       "4  125        1454\n",
       "5  134       25102\n",
       "6  135        3257\n",
       "7  150       40203\n",
       "8  160        2970\n",
       "9  165       15297\n",
       "10 170       19983\n",
       "11 175       66390\n",
       "12 180        1468\n",
       "13 190        2995\n",
       "14 200        4473\n",
       "15 210        6272\n",
       "16 220        1564\n",
       "17 250        3169\n",
       "18 270        6285\n",
       "19 330       12540\n",
       "20 380        6416"
      ]
     },
     "metadata": {},
     "output_type": "display_data"
    }
   ],
   "source": [
    "transactionData[, .N, PACK_SIZE][order(PACK_SIZE)]"
   ]
  },
  {
   "cell_type": "code",
   "execution_count": 33,
   "metadata": {},
   "outputs": [
    {
     "data": {
      "image/png": "[encoded data removed]",
      "text/plain": [
       "Plot with title \"Histogram of transactionData[, PACK_SIZE]\""
      ]
     },
     "metadata": {},
     "output_type": "display_data"
    }
   ],
   "source": [
    "hist(transactionData[, PACK_SIZE])"
   ]
  },
  {
   "cell_type": "markdown",
   "metadata": {},
   "source": [
    "Inspect the number of packs bought by brand. As the naming of the brands differ, the brand names are standardized below."
   ]
  },
  {
   "cell_type": "code",
   "execution_count": 34,
   "metadata": {},
   "outputs": [],
   "source": [
    "transactionData[, BRAND := toupper(substr(PROD_NAME, 1, regexpr(pattern = ' ', PROD_NAME) ‐ 1))]"
   ]
  },
  {
   "cell_type": "code",
   "execution_count": 35,
   "metadata": {},
   "outputs": [
    {
     "data": {
      "text/html": [
       "<table>\n",
       "<thead><tr><th scope=col>BRAND</th><th scope=col>N</th></tr></thead>\n",
       "<tbody>\n",
       "\t<tr><td>KETTLE    </td><td>41288     </td></tr>\n",
       "\t<tr><td>SMITHS    </td><td>27390     </td></tr>\n",
       "\t<tr><td>PRINGLES  </td><td>25102     </td></tr>\n",
       "\t<tr><td>DORITOS   </td><td>22041     </td></tr>\n",
       "\t<tr><td>THINS     </td><td>14075     </td></tr>\n",
       "\t<tr><td>RRD       </td><td>11894     </td></tr>\n",
       "\t<tr><td>INFUZIONS </td><td>11057     </td></tr>\n",
       "\t<tr><td>WW        </td><td>10320     </td></tr>\n",
       "\t<tr><td>COBS      </td><td> 9693     </td></tr>\n",
       "\t<tr><td>TOSTITOS  </td><td> 9471     </td></tr>\n",
       "\t<tr><td>TWISTIES  </td><td> 9454     </td></tr>\n",
       "\t<tr><td>TYRRELLS  </td><td> 6442     </td></tr>\n",
       "\t<tr><td>GRAIN     </td><td> 6272     </td></tr>\n",
       "\t<tr><td>NATURAL   </td><td> 6050     </td></tr>\n",
       "\t<tr><td>CHEEZELS  </td><td> 4603     </td></tr>\n",
       "\t<tr><td>CCS       </td><td> 4551     </td></tr>\n",
       "\t<tr><td>RED       </td><td> 4427     </td></tr>\n",
       "\t<tr><td>DORITO    </td><td> 3183     </td></tr>\n",
       "\t<tr><td>INFZNS    </td><td> 3144     </td></tr>\n",
       "\t<tr><td>SMITH     </td><td> 2963     </td></tr>\n",
       "\t<tr><td>CHEETOS   </td><td> 2927     </td></tr>\n",
       "\t<tr><td>SNBTS     </td><td> 1576     </td></tr>\n",
       "\t<tr><td>BURGER    </td><td> 1564     </td></tr>\n",
       "\t<tr><td>WOOLWORTHS</td><td> 1516     </td></tr>\n",
       "\t<tr><td>GRNWVES   </td><td> 1468     </td></tr>\n",
       "\t<tr><td>SUNBITES  </td><td> 1432     </td></tr>\n",
       "\t<tr><td>NCC       </td><td> 1419     </td></tr>\n",
       "\t<tr><td>FRENCH    </td><td> 1418     </td></tr>\n",
       "</tbody>\n",
       "</table>\n"
      ],
      "text/latex": [
       "\\begin{tabular}{r|ll}\n",
       " BRAND & N\\\\\n",
       "\\hline\n",
       "\t KETTLE     & 41288     \\\\\n",
       "\t SMITHS     & 27390     \\\\\n",
       "\t PRINGLES   & 25102     \\\\\n",
       "\t DORITOS    & 22041     \\\\\n",
       "\t THINS      & 14075     \\\\\n",
       "\t RRD        & 11894     \\\\\n",
       "\t INFUZIONS  & 11057     \\\\\n",
       "\t WW         & 10320     \\\\\n",
       "\t COBS       &  9693     \\\\\n",
       "\t TOSTITOS   &  9471     \\\\\n",
       "\t TWISTIES   &  9454     \\\\\n",
       "\t TYRRELLS   &  6442     \\\\\n",
       "\t GRAIN      &  6272     \\\\\n",
       "\t NATURAL    &  6050     \\\\\n",
       "\t CHEEZELS   &  4603     \\\\\n",
       "\t CCS        &  4551     \\\\\n",
       "\t RED        &  4427     \\\\\n",
       "\t DORITO     &  3183     \\\\\n",
       "\t INFZNS     &  3144     \\\\\n",
       "\t SMITH      &  2963     \\\\\n",
       "\t CHEETOS    &  2927     \\\\\n",
       "\t SNBTS      &  1576     \\\\\n",
       "\t BURGER     &  1564     \\\\\n",
       "\t WOOLWORTHS &  1516     \\\\\n",
       "\t GRNWVES    &  1468     \\\\\n",
       "\t SUNBITES   &  1432     \\\\\n",
       "\t NCC        &  1419     \\\\\n",
       "\t FRENCH     &  1418     \\\\\n",
       "\\end{tabular}\n"
      ],
      "text/markdown": [
       "\n",
       "| BRAND | N |\n",
       "|---|---|\n",
       "| KETTLE     | 41288      |\n",
       "| SMITHS     | 27390      |\n",
       "| PRINGLES   | 25102      |\n",
       "| DORITOS    | 22041      |\n",
       "| THINS      | 14075      |\n",
       "| RRD        | 11894      |\n",
       "| INFUZIONS  | 11057      |\n",
       "| WW         | 10320      |\n",
       "| COBS       |  9693      |\n",
       "| TOSTITOS   |  9471      |\n",
       "| TWISTIES   |  9454      |\n",
       "| TYRRELLS   |  6442      |\n",
       "| GRAIN      |  6272      |\n",
       "| NATURAL    |  6050      |\n",
       "| CHEEZELS   |  4603      |\n",
       "| CCS        |  4551      |\n",
       "| RED        |  4427      |\n",
       "| DORITO     |  3183      |\n",
       "| INFZNS     |  3144      |\n",
       "| SMITH      |  2963      |\n",
       "| CHEETOS    |  2927      |\n",
       "| SNBTS      |  1576      |\n",
       "| BURGER     |  1564      |\n",
       "| WOOLWORTHS |  1516      |\n",
       "| GRNWVES    |  1468      |\n",
       "| SUNBITES   |  1432      |\n",
       "| NCC        |  1419      |\n",
       "| FRENCH     |  1418      |\n",
       "\n"
      ],
      "text/plain": [
       "   BRAND      N    \n",
       "1  KETTLE     41288\n",
       "2  SMITHS     27390\n",
       "3  PRINGLES   25102\n",
       "4  DORITOS    22041\n",
       "5  THINS      14075\n",
       "6  RRD        11894\n",
       "7  INFUZIONS  11057\n",
       "8  WW         10320\n",
       "9  COBS        9693\n",
       "10 TOSTITOS    9471\n",
       "11 TWISTIES    9454\n",
       "12 TYRRELLS    6442\n",
       "13 GRAIN       6272\n",
       "14 NATURAL     6050\n",
       "15 CHEEZELS    4603\n",
       "16 CCS         4551\n",
       "17 RED         4427\n",
       "18 DORITO      3183\n",
       "19 INFZNS      3144\n",
       "20 SMITH       2963\n",
       "21 CHEETOS     2927\n",
       "22 SNBTS       1576\n",
       "23 BURGER      1564\n",
       "24 WOOLWORTHS  1516\n",
       "25 GRNWVES     1468\n",
       "26 SUNBITES    1432\n",
       "27 NCC         1419\n",
       "28 FRENCH      1418"
      ]
     },
     "metadata": {},
     "output_type": "display_data"
    }
   ],
   "source": [
    "transactionData[, .N, by = BRAND][order(‐N)]"
   ]
  },
  {
   "cell_type": "code",
   "execution_count": 36,
   "metadata": {},
   "outputs": [],
   "source": [
    "transactionData[BRAND == \"RED\", BRAND := \"RRD\"] \n",
    "transactionData[BRAND == \"SNBTS\", BRAND := \"SUNBITES\"] \n",
    "transactionData[BRAND == \"INFZNS\", BRAND := \"INFUZIONS\"] \n",
    "transactionData[BRAND == \"WW\", BRAND := \"WOOLWORTHS\"] \n",
    "transactionData[BRAND == \"SMITH\", BRAND := \"SMITHS\"] \n",
    "transactionData[BRAND == \"NCC\", BRAND := \"NATURAL\"] \n",
    "transactionData[BRAND == \"DORITO\", BRAND := \"DORITOS\"] \n",
    "transactionData[BRAND == \"GRAIN\", BRAND := \"GRNWVES\"]"
   ]
  },
  {
   "cell_type": "code",
   "execution_count": 37,
   "metadata": {},
   "outputs": [
    {
     "data": {
      "text/html": [
       "<table>\n",
       "<thead><tr><th scope=col>BRAND</th><th scope=col>N</th></tr></thead>\n",
       "<tbody>\n",
       "\t<tr><td>BURGER    </td><td> 1564     </td></tr>\n",
       "\t<tr><td>CCS       </td><td> 4551     </td></tr>\n",
       "\t<tr><td>CHEETOS   </td><td> 2927     </td></tr>\n",
       "\t<tr><td>CHEEZELS  </td><td> 4603     </td></tr>\n",
       "\t<tr><td>COBS      </td><td> 9693     </td></tr>\n",
       "\t<tr><td>DORITOS   </td><td>25224     </td></tr>\n",
       "\t<tr><td>FRENCH    </td><td> 1418     </td></tr>\n",
       "\t<tr><td>GRNWVES   </td><td> 7740     </td></tr>\n",
       "\t<tr><td>INFUZIONS </td><td>14201     </td></tr>\n",
       "\t<tr><td>KETTLE    </td><td>41288     </td></tr>\n",
       "\t<tr><td>NATURAL   </td><td> 7469     </td></tr>\n",
       "\t<tr><td>PRINGLES  </td><td>25102     </td></tr>\n",
       "\t<tr><td>RRD       </td><td>16321     </td></tr>\n",
       "\t<tr><td>SMITHS    </td><td>30353     </td></tr>\n",
       "\t<tr><td>SUNBITES  </td><td> 3008     </td></tr>\n",
       "\t<tr><td>THINS     </td><td>14075     </td></tr>\n",
       "\t<tr><td>TOSTITOS  </td><td> 9471     </td></tr>\n",
       "\t<tr><td>TWISTIES  </td><td> 9454     </td></tr>\n",
       "\t<tr><td>TYRRELLS  </td><td> 6442     </td></tr>\n",
       "\t<tr><td>WOOLWORTHS</td><td>11836     </td></tr>\n",
       "</tbody>\n",
       "</table>\n"
      ],
      "text/latex": [
       "\\begin{tabular}{r|ll}\n",
       " BRAND & N\\\\\n",
       "\\hline\n",
       "\t BURGER     &  1564     \\\\\n",
       "\t CCS        &  4551     \\\\\n",
       "\t CHEETOS    &  2927     \\\\\n",
       "\t CHEEZELS   &  4603     \\\\\n",
       "\t COBS       &  9693     \\\\\n",
       "\t DORITOS    & 25224     \\\\\n",
       "\t FRENCH     &  1418     \\\\\n",
       "\t GRNWVES    &  7740     \\\\\n",
       "\t INFUZIONS  & 14201     \\\\\n",
       "\t KETTLE     & 41288     \\\\\n",
       "\t NATURAL    &  7469     \\\\\n",
       "\t PRINGLES   & 25102     \\\\\n",
       "\t RRD        & 16321     \\\\\n",
       "\t SMITHS     & 30353     \\\\\n",
       "\t SUNBITES   &  3008     \\\\\n",
       "\t THINS      & 14075     \\\\\n",
       "\t TOSTITOS   &  9471     \\\\\n",
       "\t TWISTIES   &  9454     \\\\\n",
       "\t TYRRELLS   &  6442     \\\\\n",
       "\t WOOLWORTHS & 11836     \\\\\n",
       "\\end{tabular}\n"
      ],
      "text/markdown": [
       "\n",
       "| BRAND | N |\n",
       "|---|---|\n",
       "| BURGER     |  1564      |\n",
       "| CCS        |  4551      |\n",
       "| CHEETOS    |  2927      |\n",
       "| CHEEZELS   |  4603      |\n",
       "| COBS       |  9693      |\n",
       "| DORITOS    | 25224      |\n",
       "| FRENCH     |  1418      |\n",
       "| GRNWVES    |  7740      |\n",
       "| INFUZIONS  | 14201      |\n",
       "| KETTLE     | 41288      |\n",
       "| NATURAL    |  7469      |\n",
       "| PRINGLES   | 25102      |\n",
       "| RRD        | 16321      |\n",
       "| SMITHS     | 30353      |\n",
       "| SUNBITES   |  3008      |\n",
       "| THINS      | 14075      |\n",
       "| TOSTITOS   |  9471      |\n",
       "| TWISTIES   |  9454      |\n",
       "| TYRRELLS   |  6442      |\n",
       "| WOOLWORTHS | 11836      |\n",
       "\n"
      ],
      "text/plain": [
       "   BRAND      N    \n",
       "1  BURGER      1564\n",
       "2  CCS         4551\n",
       "3  CHEETOS     2927\n",
       "4  CHEEZELS    4603\n",
       "5  COBS        9693\n",
       "6  DORITOS    25224\n",
       "7  FRENCH      1418\n",
       "8  GRNWVES     7740\n",
       "9  INFUZIONS  14201\n",
       "10 KETTLE     41288\n",
       "11 NATURAL     7469\n",
       "12 PRINGLES   25102\n",
       "13 RRD        16321\n",
       "14 SMITHS     30353\n",
       "15 SUNBITES    3008\n",
       "16 THINS      14075\n",
       "17 TOSTITOS    9471\n",
       "18 TWISTIES    9454\n",
       "19 TYRRELLS    6442\n",
       "20 WOOLWORTHS 11836"
      ]
     },
     "metadata": {},
     "output_type": "display_data"
    }
   ],
   "source": [
    "transactionData[, .N, by = BRAND][order(BRAND)]"
   ]
  },
  {
   "cell_type": "code",
   "execution_count": 38,
   "metadata": {},
   "outputs": [
    {
     "name": "stdout",
     "output_type": "stream",
     "text": [
      "Classes 'data.table' and 'data.frame':\t72637 obs. of  3 variables:\n",
      " $ LYLTY_CARD_NBR  : int  1000 1002 1003 1004 1005 1007 1009 1010 1011 1012 ...\n",
      " $ LIFESTAGE       : chr  \"YOUNG SINGLES/COUPLES\" \"YOUNG SINGLES/COUPLES\" \"YOUNG FAMILIES\" \"OLDER SINGLES/COUPLES\" ...\n",
      " $ PREMIUM_CUSTOMER: chr  \"Premium\" \"Mainstream\" \"Budget\" \"Mainstream\" ...\n",
      " - attr(*, \".internal.selfref\")=<externalptr> \n"
     ]
    }
   ],
   "source": [
    "#Examining customer data\n",
    "str(customerData)"
   ]
  },
  {
   "cell_type": "code",
   "execution_count": 39,
   "metadata": {},
   "outputs": [
    {
     "data": {
      "text/plain": [
       " LYLTY_CARD_NBR     LIFESTAGE         PREMIUM_CUSTOMER  \n",
       " Min.   :   1000   Length:72637       Length:72637      \n",
       " 1st Qu.:  66202   Class :character   Class :character  \n",
       " Median : 134040   Mode  :character   Mode  :character  \n",
       " Mean   : 136186                                        \n",
       " 3rd Qu.: 203375                                        \n",
       " Max.   :2373711                                        "
      ]
     },
     "metadata": {},
     "output_type": "display_data"
    }
   ],
   "source": [
    "summary(customerData)"
   ]
  },
  {
   "cell_type": "markdown",
   "metadata": {},
   "source": [
    "Count the number of customers by Lifestage."
   ]
  },
  {
   "cell_type": "code",
   "execution_count": 40,
   "metadata": {},
   "outputs": [
    {
     "data": {
      "text/html": [
       "<table>\n",
       "<thead><tr><th scope=col>LIFESTAGE</th><th scope=col>N</th></tr></thead>\n",
       "<tbody>\n",
       "\t<tr><td>RETIREES              </td><td>14805                 </td></tr>\n",
       "\t<tr><td>OLDER SINGLES/COUPLES </td><td>14609                 </td></tr>\n",
       "\t<tr><td>YOUNG SINGLES/COUPLES </td><td>14441                 </td></tr>\n",
       "\t<tr><td>OLDER FAMILIES        </td><td> 9780                 </td></tr>\n",
       "\t<tr><td>YOUNG FAMILIES        </td><td> 9178                 </td></tr>\n",
       "\t<tr><td>MIDAGE SINGLES/COUPLES</td><td> 7275                 </td></tr>\n",
       "\t<tr><td>NEW FAMILIES          </td><td> 2549                 </td></tr>\n",
       "</tbody>\n",
       "</table>\n"
      ],
      "text/latex": [
       "\\begin{tabular}{r|ll}\n",
       " LIFESTAGE & N\\\\\n",
       "\\hline\n",
       "\t RETIREES               & 14805                 \\\\\n",
       "\t OLDER SINGLES/COUPLES  & 14609                 \\\\\n",
       "\t YOUNG SINGLES/COUPLES  & 14441                 \\\\\n",
       "\t OLDER FAMILIES         &  9780                 \\\\\n",
       "\t YOUNG FAMILIES         &  9178                 \\\\\n",
       "\t MIDAGE SINGLES/COUPLES &  7275                 \\\\\n",
       "\t NEW FAMILIES           &  2549                 \\\\\n",
       "\\end{tabular}\n"
      ],
      "text/markdown": [
       "\n",
       "| LIFESTAGE | N |\n",
       "|---|---|\n",
       "| RETIREES               | 14805                  |\n",
       "| OLDER SINGLES/COUPLES  | 14609                  |\n",
       "| YOUNG SINGLES/COUPLES  | 14441                  |\n",
       "| OLDER FAMILIES         |  9780                  |\n",
       "| YOUNG FAMILIES         |  9178                  |\n",
       "| MIDAGE SINGLES/COUPLES |  7275                  |\n",
       "| NEW FAMILIES           |  2549                  |\n",
       "\n"
      ],
      "text/plain": [
       "  LIFESTAGE              N    \n",
       "1 RETIREES               14805\n",
       "2 OLDER SINGLES/COUPLES  14609\n",
       "3 YOUNG SINGLES/COUPLES  14441\n",
       "4 OLDER FAMILIES          9780\n",
       "5 YOUNG FAMILIES          9178\n",
       "6 MIDAGE SINGLES/COUPLES  7275\n",
       "7 NEW FAMILIES            2549"
      ]
     },
     "metadata": {},
     "output_type": "display_data"
    }
   ],
   "source": [
    "customerData[, .N, by = LIFESTAGE][order(‐N)]"
   ]
  },
  {
   "cell_type": "markdown",
   "metadata": {},
   "source": [
    "Count the number of customers by premium."
   ]
  },
  {
   "cell_type": "code",
   "execution_count": 41,
   "metadata": {},
   "outputs": [
    {
     "data": {
      "text/html": [
       "<table>\n",
       "<thead><tr><th scope=col>PREMIUM_CUSTOMER</th><th scope=col>N</th></tr></thead>\n",
       "<tbody>\n",
       "\t<tr><td>Mainstream</td><td>29245     </td></tr>\n",
       "\t<tr><td>Budget    </td><td>24470     </td></tr>\n",
       "\t<tr><td>Premium   </td><td>18922     </td></tr>\n",
       "</tbody>\n",
       "</table>\n"
      ],
      "text/latex": [
       "\\begin{tabular}{r|ll}\n",
       " PREMIUM\\_CUSTOMER & N\\\\\n",
       "\\hline\n",
       "\t Mainstream & 29245     \\\\\n",
       "\t Budget     & 24470     \\\\\n",
       "\t Premium    & 18922     \\\\\n",
       "\\end{tabular}\n"
      ],
      "text/markdown": [
       "\n",
       "| PREMIUM_CUSTOMER | N |\n",
       "|---|---|\n",
       "| Mainstream | 29245      |\n",
       "| Budget     | 24470      |\n",
       "| Premium    | 18922      |\n",
       "\n"
      ],
      "text/plain": [
       "  PREMIUM_CUSTOMER N    \n",
       "1 Mainstream       29245\n",
       "2 Budget           24470\n",
       "3 Premium          18922"
      ]
     },
     "metadata": {},
     "output_type": "display_data"
    }
   ],
   "source": [
    "customerData[, .N, by = PREMIUM_CUSTOMER][order(‐N)]"
   ]
  },
  {
   "cell_type": "code",
   "execution_count": 42,
   "metadata": {},
   "outputs": [],
   "source": [
    "#merge customer and transaction data\n",
    "data <‐ merge(transactionData, customerData, all.x = TRUE)"
   ]
  },
  {
   "cell_type": "markdown",
   "metadata": {},
   "source": [
    "Check if there any null values in the data set."
   ]
  },
  {
   "cell_type": "code",
   "execution_count": 43,
   "metadata": {},
   "outputs": [
    {
     "data": {
      "text/html": [
       "0"
      ],
      "text/latex": [
       "0"
      ],
      "text/markdown": [
       "0"
      ],
      "text/plain": [
       "[1] 0"
      ]
     },
     "metadata": {},
     "output_type": "display_data"
    }
   ],
   "source": [
    "data[is.null(LIFESTAGE), .N]"
   ]
  },
  {
   "cell_type": "code",
   "execution_count": 44,
   "metadata": {},
   "outputs": [
    {
     "data": {
      "text/html": [
       "0"
      ],
      "text/latex": [
       "0"
      ],
      "text/markdown": [
       "0"
      ],
      "text/plain": [
       "[1] 0"
      ]
     },
     "metadata": {},
     "output_type": "display_data"
    }
   ],
   "source": [
    "data[is.null(PREMIUM_CUSTOMER), .N]"
   ]
  },
  {
   "cell_type": "markdown",
   "metadata": {},
   "source": [
    "Write the merged dataset to csv."
   ]
  },
  {
   "cell_type": "code",
   "execution_count": 45,
   "metadata": {},
   "outputs": [],
   "source": [
    "fwrite(data, paste0(filePath,\"QVI_data2.csv\"))"
   ]
  },
  {
   "cell_type": "code",
   "execution_count": 46,
   "metadata": {},
   "outputs": [],
   "source": [
    "#Total sales by LIFESTAGE and PREMIUM_CUSTOMER\n",
    "\n",
    "sales <‐ data[, .(SALES = sum(TOT_SALES)), .(LIFESTAGE, PREMIUM_CUSTOMER)]"
   ]
  },
  {
   "cell_type": "code",
   "execution_count": 47,
   "metadata": {},
   "outputs": [
    {
     "name": "stdout",
     "output_type": "stream",
     "text": [
      "package 'ggmosaic' successfully unpacked and MD5 sums checked\n",
      "\n",
      "The downloaded binary packages are in\n",
      "\tC:\\Users\\user\\AppData\\Local\\Temp\\RtmpCmly7Z\\downloaded_packages\n"
     ]
    }
   ],
   "source": [
    "install.packages(\"ggmosaic\")"
   ]
  },
  {
   "cell_type": "code",
   "execution_count": 48,
   "metadata": {},
   "outputs": [
    {
     "name": "stderr",
     "output_type": "stream",
     "text": [
      "Warning message:\n",
      "\"package 'ggmosaic' was built under R version 3.6.3\""
     ]
    }
   ],
   "source": [
    "library(ggmosaic)"
   ]
  },
  {
   "cell_type": "markdown",
   "metadata": {},
   "source": [
    "Plot the proportion of sales by premium customer and lifestage."
   ]
  },
  {
   "cell_type": "code",
   "execution_count": 49,
   "metadata": {},
   "outputs": [],
   "source": [
    "sales_plot <‐ ggplot(data = sales) + geom_mosaic(aes(weight = SALES, x = product(PREMIUM_CUSTOMER, LIFESTAGE), \n",
    "              fill = PREMIUM_CUSTOMER)) + labs(x = \"Lifestage\", y = \"Premium customer flag\", title = \"Proportion of sales\") +\n",
    "              theme(axis.text.x = element_text(angle = 90, vjust = 0.5))"
   ]
  },
  {
   "cell_type": "code",
   "execution_count": 50,
   "metadata": {},
   "outputs": [
    {
     "data": {
      "image/png": "[encoded data removed]",
      "text/plain": [
       "plot without title"
      ]
     },
     "metadata": {},
     "output_type": "display_data"
    }
   ],
   "source": [
    "sales_plot + geom_text(data = ggplot_build(sales_plot)$data[[1]], aes(x = (xmin + xmax)/2 , y = (ymin + ymax)/2, label = as.character(paste(round(.wt/sum(.wt),3)*100, '%'))))"
   ]
  },
  {
   "cell_type": "code",
   "execution_count": 51,
   "metadata": {},
   "outputs": [],
   "source": [
    "#Number of customers by LIFESTAGE and PREMIUM_CUSTOMER \n",
    "customers <‐ data[, .(CUSTOMERS = uniqueN(LYLTY_CARD_NBR)), .(LIFESTAGE, PREMIUM_CUSTOMER)][order(‐CUSTOMERS)]"
   ]
  },
  {
   "cell_type": "code",
   "execution_count": 52,
   "metadata": {},
   "outputs": [],
   "source": [
    "cust_plot <‐ ggplot(data = customers) + geom_mosaic(aes(weight = CUSTOMERS, x = product(PREMIUM_CUSTOMER, LIFESTAGE), fill = PREMIUM_CUSTOMER)) + labs(x = \"Lifestage\", y = \"Premium customer flag\", title = \"Proportion of customers\") +\n",
    "             theme(axis.text.x = element_text(angle = 90, vjust = 0.5)) "
   ]
  },
  {
   "cell_type": "code",
   "execution_count": 53,
   "metadata": {},
   "outputs": [
    {
     "data": {
      "image/png": "[encoded data removed]",
      "text/plain": [
       "plot without title"
      ]
     },
     "metadata": {},
     "output_type": "display_data"
    }
   ],
   "source": [
    "cust_plot + geom_text(data = ggplot_build(cust_plot)$data[[1]], aes(x = (xmin + xmax)/2 ,\n",
    "            y = (ymin + ymax)/2, label = as.character(paste(round(.wt/sum(.wt),3)*100, '%'))))"
   ]
  },
  {
   "cell_type": "code",
   "execution_count": 54,
   "metadata": {},
   "outputs": [],
   "source": [
    "#Average number of units per customer by LIFESTAGE and PREMIUM_CUSTOMER\n",
    "avg_units <‐ data[, .(AVG = sum(PROD_QTY)/uniqueN(LYLTY_CARD_NBR)), .(LIFESTAGE, PREMIUM_CUSTOMER)][order(‐AVG)]"
   ]
  },
  {
   "cell_type": "markdown",
   "metadata": {},
   "source": [
    "Plot the units per customer for the lifestage and premium customer."
   ]
  },
  {
   "cell_type": "code",
   "execution_count": 55,
   "metadata": {},
   "outputs": [
    {
     "data": {
      "image/png": "[encoded data removed]",
      "text/plain": [
       "plot without title"
      ]
     },
     "metadata": {},
     "output_type": "display_data"
    }
   ],
   "source": [
    "ggplot(data = avg_units, aes(weight = AVG, x = LIFESTAGE, fill = PREMIUM_CUSTOMER)) + geom_bar(position = position_dodge()) + \n",
    "labs(x = \"Lifestage\", y = \"Avg units per transaction\", title = \"Units per customer\") + theme(axis.text.x = element_text(angle = 90, vjust = 0.5))\n"
   ]
  },
  {
   "cell_type": "code",
   "execution_count": 56,
   "metadata": {},
   "outputs": [
    {
     "data": {
      "text/plain": [
       "\n",
       "\tWelch Two Sample t-test\n",
       "\n",
       "data:  data[LIFESTAGE %in% c(\"YOUNG SINGLES/COUPLES\", \"MIDAGE SINGLES/COUPLES\") &  and data[LIFESTAGE %in% c(\"YOUNG SINGLES/COUPLES\", \"MIDAGE SINGLES/COUPLES\") &     PREMIUM_CUSTOMER == \"Mainstream\", price] and     PREMIUM_CUSTOMER != \"Mainstream\", price]\n",
       "t = 37.624, df = 54791, p-value < 2.2e-16\n",
       "alternative hypothesis: true difference in means is greater than 0\n",
       "95 percent confidence interval:\n",
       " 0.3187234       Inf\n",
       "sample estimates:\n",
       "mean of x mean of y \n",
       " 4.039786  3.706491 \n"
      ]
     },
     "metadata": {},
     "output_type": "display_data"
    }
   ],
   "source": [
    "#independent t-test\n",
    "pricePerUnit <‐ data[, price := TOT_SALES/PROD_QTY] \n",
    "t.test(data[LIFESTAGE %in% c(\"YOUNG SINGLES/COUPLES\", \"MIDAGE SINGLES/COUPLES\") & PREMIUM_CUSTOMER == \"Mainstream\", price], \n",
    "data[LIFESTAGE %in% c(\"YOUNG SINGLES/COUPLES\", \"MIDAGE SINGLES/COUPLES\") & PREMIUM_CUSTOMER != \"Mainstream\", price] , alternative = \"greater\")"
   ]
  },
  {
   "cell_type": "code",
   "execution_count": 57,
   "metadata": {},
   "outputs": [
    {
     "data": {
      "text/html": [
       "<table>\n",
       "<thead><tr><th scope=col>BRAND</th><th scope=col>targetSegment</th><th scope=col>other</th><th scope=col>affinityToBrand</th></tr></thead>\n",
       "<tbody>\n",
       "\t<tr><td>TYRRELLS   </td><td>0.031552795</td><td>0.025692464</td><td>1.2280953  </td></tr>\n",
       "\t<tr><td>TWISTIES   </td><td>0.046183575</td><td>0.037876520</td><td>1.2193194  </td></tr>\n",
       "\t<tr><td>DORITOS    </td><td>0.122760524</td><td>0.101074684</td><td>1.2145526  </td></tr>\n",
       "\t<tr><td>KETTLE     </td><td>0.197984817</td><td>0.165553442</td><td>1.1958967  </td></tr>\n",
       "\t<tr><td>TOSTITOS   </td><td>0.045410628</td><td>0.037977861</td><td>1.1957131  </td></tr>\n",
       "\t<tr><td>PRINGLES   </td><td>0.119420290</td><td>0.100634769</td><td>1.1866703  </td></tr>\n",
       "\t<tr><td>COBS       </td><td>0.044637681</td><td>0.039048861</td><td>1.1431238  </td></tr>\n",
       "\t<tr><td>INFUZIONS  </td><td>0.064679089</td><td>0.057064679</td><td>1.1334347  </td></tr>\n",
       "\t<tr><td>THINS      </td><td>0.060372671</td><td>0.056986370</td><td>1.0594230  </td></tr>\n",
       "\t<tr><td>GRNWVES    </td><td>0.032712215</td><td>0.031187957</td><td>1.0488733  </td></tr>\n",
       "\t<tr><td>CHEEZELS   </td><td>0.017971014</td><td>0.018646902</td><td>0.9637534  </td></tr>\n",
       "\t<tr><td>SMITHS     </td><td>0.096369910</td><td>0.124583692</td><td>0.7735355  </td></tr>\n",
       "\t<tr><td>FRENCH     </td><td>0.003947550</td><td>0.005758060</td><td>0.6855694  </td></tr>\n",
       "\t<tr><td>CHEETOS    </td><td>0.008033126</td><td>0.012066591</td><td>0.6657329  </td></tr>\n",
       "\t<tr><td>RRD        </td><td>0.043809524</td><td>0.067493678</td><td>0.6490908  </td></tr>\n",
       "\t<tr><td>NATURAL    </td><td>0.019599724</td><td>0.030853989</td><td>0.6352412  </td></tr>\n",
       "\t<tr><td>CCS        </td><td>0.011180124</td><td>0.018895650</td><td>0.5916771  </td></tr>\n",
       "\t<tr><td>SUNBITES   </td><td>0.006349206</td><td>0.012580210</td><td>0.5046980  </td></tr>\n",
       "\t<tr><td>WOOLWORTHS </td><td>0.024099379</td><td>0.049427188</td><td>0.4875733  </td></tr>\n",
       "\t<tr><td>BURGER     </td><td>0.002926156</td><td>0.006596434</td><td>0.4435967  </td></tr>\n",
       "</tbody>\n",
       "</table>\n"
      ],
      "text/latex": [
       "\\begin{tabular}{r|llll}\n",
       " BRAND & targetSegment & other & affinityToBrand\\\\\n",
       "\\hline\n",
       "\t TYRRELLS    & 0.031552795 & 0.025692464 & 1.2280953  \\\\\n",
       "\t TWISTIES    & 0.046183575 & 0.037876520 & 1.2193194  \\\\\n",
       "\t DORITOS     & 0.122760524 & 0.101074684 & 1.2145526  \\\\\n",
       "\t KETTLE      & 0.197984817 & 0.165553442 & 1.1958967  \\\\\n",
       "\t TOSTITOS    & 0.045410628 & 0.037977861 & 1.1957131  \\\\\n",
       "\t PRINGLES    & 0.119420290 & 0.100634769 & 1.1866703  \\\\\n",
       "\t COBS        & 0.044637681 & 0.039048861 & 1.1431238  \\\\\n",
       "\t INFUZIONS   & 0.064679089 & 0.057064679 & 1.1334347  \\\\\n",
       "\t THINS       & 0.060372671 & 0.056986370 & 1.0594230  \\\\\n",
       "\t GRNWVES     & 0.032712215 & 0.031187957 & 1.0488733  \\\\\n",
       "\t CHEEZELS    & 0.017971014 & 0.018646902 & 0.9637534  \\\\\n",
       "\t SMITHS      & 0.096369910 & 0.124583692 & 0.7735355  \\\\\n",
       "\t FRENCH      & 0.003947550 & 0.005758060 & 0.6855694  \\\\\n",
       "\t CHEETOS     & 0.008033126 & 0.012066591 & 0.6657329  \\\\\n",
       "\t RRD         & 0.043809524 & 0.067493678 & 0.6490908  \\\\\n",
       "\t NATURAL     & 0.019599724 & 0.030853989 & 0.6352412  \\\\\n",
       "\t CCS         & 0.011180124 & 0.018895650 & 0.5916771  \\\\\n",
       "\t SUNBITES    & 0.006349206 & 0.012580210 & 0.5046980  \\\\\n",
       "\t WOOLWORTHS  & 0.024099379 & 0.049427188 & 0.4875733  \\\\\n",
       "\t BURGER      & 0.002926156 & 0.006596434 & 0.4435967  \\\\\n",
       "\\end{tabular}\n"
      ],
      "text/markdown": [
       "\n",
       "| BRAND | targetSegment | other | affinityToBrand |\n",
       "|---|---|---|---|\n",
       "| TYRRELLS    | 0.031552795 | 0.025692464 | 1.2280953   |\n",
       "| TWISTIES    | 0.046183575 | 0.037876520 | 1.2193194   |\n",
       "| DORITOS     | 0.122760524 | 0.101074684 | 1.2145526   |\n",
       "| KETTLE      | 0.197984817 | 0.165553442 | 1.1958967   |\n",
       "| TOSTITOS    | 0.045410628 | 0.037977861 | 1.1957131   |\n",
       "| PRINGLES    | 0.119420290 | 0.100634769 | 1.1866703   |\n",
       "| COBS        | 0.044637681 | 0.039048861 | 1.1431238   |\n",
       "| INFUZIONS   | 0.064679089 | 0.057064679 | 1.1334347   |\n",
       "| THINS       | 0.060372671 | 0.056986370 | 1.0594230   |\n",
       "| GRNWVES     | 0.032712215 | 0.031187957 | 1.0488733   |\n",
       "| CHEEZELS    | 0.017971014 | 0.018646902 | 0.9637534   |\n",
       "| SMITHS      | 0.096369910 | 0.124583692 | 0.7735355   |\n",
       "| FRENCH      | 0.003947550 | 0.005758060 | 0.6855694   |\n",
       "| CHEETOS     | 0.008033126 | 0.012066591 | 0.6657329   |\n",
       "| RRD         | 0.043809524 | 0.067493678 | 0.6490908   |\n",
       "| NATURAL     | 0.019599724 | 0.030853989 | 0.6352412   |\n",
       "| CCS         | 0.011180124 | 0.018895650 | 0.5916771   |\n",
       "| SUNBITES    | 0.006349206 | 0.012580210 | 0.5046980   |\n",
       "| WOOLWORTHS  | 0.024099379 | 0.049427188 | 0.4875733   |\n",
       "| BURGER      | 0.002926156 | 0.006596434 | 0.4435967   |\n",
       "\n"
      ],
      "text/plain": [
       "   BRAND      targetSegment other       affinityToBrand\n",
       "1  TYRRELLS   0.031552795   0.025692464 1.2280953      \n",
       "2  TWISTIES   0.046183575   0.037876520 1.2193194      \n",
       "3  DORITOS    0.122760524   0.101074684 1.2145526      \n",
       "4  KETTLE     0.197984817   0.165553442 1.1958967      \n",
       "5  TOSTITOS   0.045410628   0.037977861 1.1957131      \n",
       "6  PRINGLES   0.119420290   0.100634769 1.1866703      \n",
       "7  COBS       0.044637681   0.039048861 1.1431238      \n",
       "8  INFUZIONS  0.064679089   0.057064679 1.1334347      \n",
       "9  THINS      0.060372671   0.056986370 1.0594230      \n",
       "10 GRNWVES    0.032712215   0.031187957 1.0488733      \n",
       "11 CHEEZELS   0.017971014   0.018646902 0.9637534      \n",
       "12 SMITHS     0.096369910   0.124583692 0.7735355      \n",
       "13 FRENCH     0.003947550   0.005758060 0.6855694      \n",
       "14 CHEETOS    0.008033126   0.012066591 0.6657329      \n",
       "15 RRD        0.043809524   0.067493678 0.6490908      \n",
       "16 NATURAL    0.019599724   0.030853989 0.6352412      \n",
       "17 CCS        0.011180124   0.018895650 0.5916771      \n",
       "18 SUNBITES   0.006349206   0.012580210 0.5046980      \n",
       "19 WOOLWORTHS 0.024099379   0.049427188 0.4875733      \n",
       "20 BURGER     0.002926156   0.006596434 0.4435967      "
      ]
     },
     "metadata": {},
     "output_type": "display_data"
    }
   ],
   "source": [
    "#Deep dive into Mainstream, young singles/couples \n",
    "segment1 <‐ data[LIFESTAGE == \"YOUNG SINGLES/COUPLES\" & PREMIUM_CUSTOMER == \"Mainstream\",]\n",
    "other <‐ data[!(LIFESTAGE == \"YOUNG SINGLES/COUPLES\" & PREMIUM_CUSTOMER == \"Mainstream\"),]\n",
    "\n",
    "#Brand affinity compared to the rest of the population \n",
    "quantity_segment1 <‐ segment1[, sum(PROD_QTY)]\n",
    "quantity_other <‐ other[, sum(PROD_QTY)] \n",
    "quantity_segment1_by_brand <‐ segment1[, .(targetSegment = sum(PROD_QTY)/quantity_segment1), by = BRAND]\n",
    "quantity_other_by_brand <‐ other[, .(other = sum(PROD_QTY)/quantity_other), by = BRAND]\n",
    "\n",
    "brand_proportions <‐ merge(quantity_segment1_by_brand, quantity_other_by_brand)[, affinityToBrand := targetSegment/other]\n",
    "brand_proportions[order(‐affinityToBrand)]"
   ]
  },
  {
   "cell_type": "code",
   "execution_count": 58,
   "metadata": {},
   "outputs": [
    {
     "data": {
      "text/html": [
       "<table>\n",
       "<thead><tr><th scope=col>PACK_SIZE</th><th scope=col>targetSegment</th><th scope=col>other</th><th scope=col>affinityToPack</th></tr></thead>\n",
       "<tbody>\n",
       "\t<tr><td>270        </td><td>0.031828847</td><td>0.025095929</td><td>1.2682873  </td></tr>\n",
       "\t<tr><td>380        </td><td>0.032160110</td><td>0.025584213</td><td>1.2570295  </td></tr>\n",
       "\t<tr><td>330        </td><td>0.061283644</td><td>0.050161917</td><td>1.2217166  </td></tr>\n",
       "\t<tr><td>134        </td><td>0.119420290</td><td>0.100634769</td><td>1.1866703  </td></tr>\n",
       "\t<tr><td>110        </td><td>0.106280193</td><td>0.089791190</td><td>1.1836372  </td></tr>\n",
       "\t<tr><td>210        </td><td>0.029123533</td><td>0.025121265</td><td>1.1593180  </td></tr>\n",
       "\t<tr><td>135        </td><td>0.014768806</td><td>0.013075403</td><td>1.1295106  </td></tr>\n",
       "\t<tr><td>250        </td><td>0.014354727</td><td>0.012780590</td><td>1.1231662  </td></tr>\n",
       "\t<tr><td>170        </td><td>0.080772947</td><td>0.080985964</td><td>0.9973697  </td></tr>\n",
       "\t<tr><td>150        </td><td>0.157598344</td><td>0.163420656</td><td>0.9643722  </td></tr>\n",
       "\t<tr><td>175        </td><td>0.254989648</td><td>0.270006956</td><td>0.9443818  </td></tr>\n",
       "\t<tr><td>165        </td><td>0.055652174</td><td>0.062267662</td><td>0.8937572  </td></tr>\n",
       "\t<tr><td>190        </td><td>0.007481021</td><td>0.012442016</td><td>0.6012708  </td></tr>\n",
       "\t<tr><td>180        </td><td>0.003588682</td><td>0.006066692</td><td>0.5915385  </td></tr>\n",
       "\t<tr><td>160        </td><td>0.006404417</td><td>0.012372920</td><td>0.5176157  </td></tr>\n",
       "\t<tr><td> 90        </td><td>0.006349206</td><td>0.012580210</td><td>0.5046980  </td></tr>\n",
       "\t<tr><td>125        </td><td>0.003008972</td><td>0.006036750</td><td>0.4984423  </td></tr>\n",
       "\t<tr><td>200        </td><td>0.008971705</td><td>0.018656115</td><td>0.4808989  </td></tr>\n",
       "\t<tr><td> 70        </td><td>0.003036577</td><td>0.006322350</td><td>0.4802924  </td></tr>\n",
       "\t<tr><td>220        </td><td>0.002926156</td><td>0.006596434</td><td>0.4435967  </td></tr>\n",
       "</tbody>\n",
       "</table>\n"
      ],
      "text/latex": [
       "\\begin{tabular}{r|llll}\n",
       " PACK\\_SIZE & targetSegment & other & affinityToPack\\\\\n",
       "\\hline\n",
       "\t 270         & 0.031828847 & 0.025095929 & 1.2682873  \\\\\n",
       "\t 380         & 0.032160110 & 0.025584213 & 1.2570295  \\\\\n",
       "\t 330         & 0.061283644 & 0.050161917 & 1.2217166  \\\\\n",
       "\t 134         & 0.119420290 & 0.100634769 & 1.1866703  \\\\\n",
       "\t 110         & 0.106280193 & 0.089791190 & 1.1836372  \\\\\n",
       "\t 210         & 0.029123533 & 0.025121265 & 1.1593180  \\\\\n",
       "\t 135         & 0.014768806 & 0.013075403 & 1.1295106  \\\\\n",
       "\t 250         & 0.014354727 & 0.012780590 & 1.1231662  \\\\\n",
       "\t 170         & 0.080772947 & 0.080985964 & 0.9973697  \\\\\n",
       "\t 150         & 0.157598344 & 0.163420656 & 0.9643722  \\\\\n",
       "\t 175         & 0.254989648 & 0.270006956 & 0.9443818  \\\\\n",
       "\t 165         & 0.055652174 & 0.062267662 & 0.8937572  \\\\\n",
       "\t 190         & 0.007481021 & 0.012442016 & 0.6012708  \\\\\n",
       "\t 180         & 0.003588682 & 0.006066692 & 0.5915385  \\\\\n",
       "\t 160         & 0.006404417 & 0.012372920 & 0.5176157  \\\\\n",
       "\t  90         & 0.006349206 & 0.012580210 & 0.5046980  \\\\\n",
       "\t 125         & 0.003008972 & 0.006036750 & 0.4984423  \\\\\n",
       "\t 200         & 0.008971705 & 0.018656115 & 0.4808989  \\\\\n",
       "\t  70         & 0.003036577 & 0.006322350 & 0.4802924  \\\\\n",
       "\t 220         & 0.002926156 & 0.006596434 & 0.4435967  \\\\\n",
       "\\end{tabular}\n"
      ],
      "text/markdown": [
       "\n",
       "| PACK_SIZE | targetSegment | other | affinityToPack |\n",
       "|---|---|---|---|\n",
       "| 270         | 0.031828847 | 0.025095929 | 1.2682873   |\n",
       "| 380         | 0.032160110 | 0.025584213 | 1.2570295   |\n",
       "| 330         | 0.061283644 | 0.050161917 | 1.2217166   |\n",
       "| 134         | 0.119420290 | 0.100634769 | 1.1866703   |\n",
       "| 110         | 0.106280193 | 0.089791190 | 1.1836372   |\n",
       "| 210         | 0.029123533 | 0.025121265 | 1.1593180   |\n",
       "| 135         | 0.014768806 | 0.013075403 | 1.1295106   |\n",
       "| 250         | 0.014354727 | 0.012780590 | 1.1231662   |\n",
       "| 170         | 0.080772947 | 0.080985964 | 0.9973697   |\n",
       "| 150         | 0.157598344 | 0.163420656 | 0.9643722   |\n",
       "| 175         | 0.254989648 | 0.270006956 | 0.9443818   |\n",
       "| 165         | 0.055652174 | 0.062267662 | 0.8937572   |\n",
       "| 190         | 0.007481021 | 0.012442016 | 0.6012708   |\n",
       "| 180         | 0.003588682 | 0.006066692 | 0.5915385   |\n",
       "| 160         | 0.006404417 | 0.012372920 | 0.5176157   |\n",
       "|  90         | 0.006349206 | 0.012580210 | 0.5046980   |\n",
       "| 125         | 0.003008972 | 0.006036750 | 0.4984423   |\n",
       "| 200         | 0.008971705 | 0.018656115 | 0.4808989   |\n",
       "|  70         | 0.003036577 | 0.006322350 | 0.4802924   |\n",
       "| 220         | 0.002926156 | 0.006596434 | 0.4435967   |\n",
       "\n"
      ],
      "text/plain": [
       "   PACK_SIZE targetSegment other       affinityToPack\n",
       "1  270       0.031828847   0.025095929 1.2682873     \n",
       "2  380       0.032160110   0.025584213 1.2570295     \n",
       "3  330       0.061283644   0.050161917 1.2217166     \n",
       "4  134       0.119420290   0.100634769 1.1866703     \n",
       "5  110       0.106280193   0.089791190 1.1836372     \n",
       "6  210       0.029123533   0.025121265 1.1593180     \n",
       "7  135       0.014768806   0.013075403 1.1295106     \n",
       "8  250       0.014354727   0.012780590 1.1231662     \n",
       "9  170       0.080772947   0.080985964 0.9973697     \n",
       "10 150       0.157598344   0.163420656 0.9643722     \n",
       "11 175       0.254989648   0.270006956 0.9443818     \n",
       "12 165       0.055652174   0.062267662 0.8937572     \n",
       "13 190       0.007481021   0.012442016 0.6012708     \n",
       "14 180       0.003588682   0.006066692 0.5915385     \n",
       "15 160       0.006404417   0.012372920 0.5176157     \n",
       "16  90       0.006349206   0.012580210 0.5046980     \n",
       "17 125       0.003008972   0.006036750 0.4984423     \n",
       "18 200       0.008971705   0.018656115 0.4808989     \n",
       "19  70       0.003036577   0.006322350 0.4802924     \n",
       "20 220       0.002926156   0.006596434 0.4435967     "
      ]
     },
     "metadata": {},
     "output_type": "display_data"
    }
   ],
   "source": [
    "#Preferred pack size compared to the rest of the population \n",
    "quantity_segment1_by_pack <‐ segment1[, .(targetSegment = sum(PROD_QTY)/quantity_segment1), by = PACK_SIZE]\n",
    "quantity_other_by_pack <‐ other[, .(other = sum(PROD_QTY)/quantity_other), by = PACK_SIZE]\n",
    "\n",
    "pack_proportions <‐ merge(quantity_segment1_by_pack, quantity_other_by_pack)[, affinityToPack := targetSegment/other]\n",
    "pack_proportions[order(‐affinityToPack)]"
   ]
  },
  {
   "cell_type": "markdown",
   "metadata": {},
   "source": [
    "The most popular pack size is 270g. Inspect which products have a pack size of 270g."
   ]
  },
  {
   "cell_type": "code",
   "execution_count": 59,
   "metadata": {},
   "outputs": [
    {
     "data": {
      "text/html": [
       "<ol class=list-inline>\n",
       "\t<li><span style=white-space:pre-wrap>'Twisties Cheese     270g'</span></li>\n",
       "\t<li>'Twisties Chicken270g'</li>\n",
       "</ol>\n"
      ],
      "text/latex": [
       "\\begin{enumerate*}\n",
       "\\item 'Twisties Cheese     270g'\n",
       "\\item 'Twisties Chicken270g'\n",
       "\\end{enumerate*}\n"
      ],
      "text/markdown": [
       "1. <span style=white-space:pre-wrap>'Twisties Cheese     270g'</span>\n",
       "2. 'Twisties Chicken270g'\n",
       "\n",
       "\n"
      ],
      "text/plain": [
       "[1] \"Twisties Cheese     270g\" \"Twisties Chicken270g\"    "
      ]
     },
     "metadata": {},
     "output_type": "display_data"
    }
   ],
   "source": [
    "data[PACK_SIZE == 270, unique(PROD_NAME)]"
   ]
  },
  {
   "cell_type": "code",
   "execution_count": null,
   "metadata": {},
   "outputs": [],
   "source": []
  }
 ],
 "metadata": {
  "kernelspec": {
   "display_name": "R",
   "language": "R",
   "name": "ir"
  },
  "language_info": {
   "codemirror_mode": "r",
   "file_extension": ".r",
   "mimetype": "text/x-r-source",
   "name": "R",
   "pygments_lexer": "r",
   "version": "3.6.1"
  }
 },
 "nbformat": 4,
 "nbformat_minor": 4
}
